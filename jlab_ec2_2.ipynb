{
 "cells": [
  {
   "cell_type": "markdown",
   "metadata": {},
   "source": [
    "### Note:  to start Jupyter Notebook with Spark, use the following command:\n",
    "\n",
    "PYSPARK_DRIVER_PYTHON=\"jupyter\" PYSPARK_DRIVER_PYTHON_OPTS=\"notebook\" spark-2.1.1-bin-hadoop2.7/bin/pyspark --packages org.diana-hep:spark-root_2.11:0.1.11,org.diana-hep:histogrammar-bokeh_2.11:1.0.3,org.diana-hep:histogrammar-sparksql_2.11:1.0.3"
   ]
  },
  {
   "cell_type": "markdown",
   "metadata": {},
   "source": [
    "# Root file to Spark Dataframe"
   ]
  },
  {
   "cell_type": "markdown",
   "metadata": {},
   "source": [
    "Below is the code to read in the root file into a Spark DataFrame.\n",
    "\n",
    "The show() method can show some of the data in table format\n",
    "\n",
    "The printSchema() can show the tree structure of the data\n",
    "\n",
    "count() will display the number of rows"
   ]
  },
  {
   "cell_type": "code",
   "execution_count": 1,
   "metadata": {
    "collapsed": true
   },
   "outputs": [],
   "source": [
    "import time\n",
    "start_time = time.time()"
   ]
  },
  {
   "cell_type": "code",
   "execution_count": 2,
   "metadata": {},
   "outputs": [
    {
     "data": {
      "text/plain": [
       "2"
      ]
     },
     "execution_count": 2,
     "metadata": {},
     "output_type": "execute_result"
    }
   ],
   "source": [
    "sc.defaultParallelism"
   ]
  },
  {
   "cell_type": "code",
   "execution_count": 3,
   "metadata": {},
   "outputs": [],
   "source": [
    "#from pyspark import SparkContext\n",
    "#sc = SparkContext()\n",
    "#from pyspark.sql import SQLContext\n",
    "#sqlContext = SQLContext(sc)"
   ]
  },
  {
   "cell_type": "code",
   "execution_count": 4,
   "metadata": {
    "collapsed": true
   },
   "outputs": [],
   "source": [
    "df = sqlContext.read.format(\"org.dianahep.sparkroot\").load(\"file:/home/ec2-user/data_05_53591_53591_03.root\")"
   ]
  },
  {
   "cell_type": "code",
   "execution_count": 5,
   "metadata": {
    "collapsed": true
   },
   "outputs": [],
   "source": [
    "#df.show()"
   ]
  },
  {
   "cell_type": "code",
   "execution_count": 6,
   "metadata": {
    "collapsed": true
   },
   "outputs": [],
   "source": [
    "#df.printSchema()"
   ]
  },
  {
   "cell_type": "code",
   "execution_count": 7,
   "metadata": {},
   "outputs": [
    {
     "data": {
      "text/plain": [
       "50000"
      ]
     },
     "execution_count": 7,
     "metadata": {},
     "output_type": "execute_result"
    }
   ],
   "source": [
    "df.count()"
   ]
  },
  {
   "cell_type": "markdown",
   "metadata": {},
   "source": [
    "# Importing Packages"
   ]
  },
  {
   "cell_type": "code",
   "execution_count": 8,
   "metadata": {
    "collapsed": true
   },
   "outputs": [],
   "source": [
    "from math import *\n",
    "import numpy as np\n",
    "from pyspark.sql import Row\n",
    "import matplotlib.pyplot as plt\n",
    "import histogrammar as hist\n",
    "#import ROOT"
   ]
  },
  {
   "cell_type": "markdown",
   "metadata": {},
   "source": [
    "# Selecting a subset of the data"
   ]
  },
  {
   "cell_type": "code",
   "execution_count": 9,
   "metadata": {},
   "outputs": [
    {
     "name": "stdout",
     "output_type": "stream",
     "text": [
      "root\n",
      " |-- Emprob: array (nullable = true)\n",
      " |    |-- element: float (containsNull = true)\n",
      " |-- Trk_charge: array (nullable = true)\n",
      " |    |-- element: float (containsNull = true)\n",
      " |-- Emcalene: array (nullable = true)\n",
      " |    |-- element: float (containsNull = true)\n",
      " |-- Emth: array (nullable = true)\n",
      " |    |-- element: float (containsNull = true)\n",
      "\n"
     ]
    }
   ],
   "source": [
    "selection = df.select(\"Emprob\",\"Trk_charge\",\"Emcalene\",\"Emth\")\n",
    "trk_charge = df.select(\"Trk_charge\")\n",
    "#emcalene = df.select(\"Emcalene\")\n",
    "#theta = df.select(\"Emth\")\n",
    "selection.printSchema()"
   ]
  },
  {
   "cell_type": "markdown",
   "metadata": {},
   "source": [
    "Somehow it appears that the columns are getting mixed up...at least in the section.show() command.\n",
    "\n",
    "However, when calling to show the specific columns, it appears that they are referenced correctly."
   ]
  },
  {
   "cell_type": "code",
   "execution_count": 10,
   "metadata": {},
   "outputs": [
    {
     "name": "stdout",
     "output_type": "stream",
     "text": [
      "+--------------------+--------------------+--------------------+--------------------+\n",
      "|              Emprob|          Trk_charge|            Emcalene|                Emth|\n",
      "+--------------------+--------------------+--------------------+--------------------+\n",
      "|[0.08723083, 0.25...|[16.42564, 5.8450...|[3.036166, 0.2000...|[1.0, 1.0, 1.0, 1...|\n",
      "|[0.939351, 0.2585...|[5.1453853, 4.929...|[3.018555, 0.0571...|[1.0, 1.0, -1.0, ...|\n",
      "|[0.037284255, 0.0...|[19.95356, 4.6684...|[3.052607, 0.0831...|[-1.0, 1.0, 1.0, ...|\n",
      "|        [0.55371076]|         [6.7391124]|         [3.0720887]|[1.0, -1.0, 1.0, ...|\n",
      "|                  []|                  []|                  []|[-1.0, 1.0, 1.0, ...|\n",
      "|[0.48681435, 0.00...|[7.0863314, 5.864...|[2.9617953, 0.145...|[-1.0, 1.0, 1.0, ...|\n",
      "|        [0.92922276]|          [27.94636]|         [2.9795275]|[1.0, -1.0, -1.0,...|\n",
      "|                  []|                  []|                  []|[1.0, 1.0, 1.0, -...|\n",
      "|[0.93522364, 0.02...|[22.427814, 4.715...|[3.0406399, 0.184...|[1.0, -1.0, -1.0,...|\n",
      "|         [0.9350373]|         [12.521043]|         [3.0350533]|[-1.0, 1.0, 1.0, ...|\n",
      "|       [3.645794E-5]|          [8.177666]|        [0.10435271]|[1.0, -1.0, -1.0,...|\n",
      "|         [0.3580788]|         [7.1608033]|          [2.972933]|[-1.0, 1.0, 1.0, ...|\n",
      "|[0.73354083, 0.43...|[10.717335, 4.129...|[3.0684764, 3.028...|               [1.0]|\n",
      "|        [0.06654061]|          [6.057034]|        [0.09108353]|[-1.0, 1.0, 1.0, ...|\n",
      "|                  []|                  []|                  []|[1.0, 1.0, 1.0, -...|\n",
      "|        [0.46746105]|         [21.793573]|         [3.0596297]|[-1.0, 1.0, 1.0, ...|\n",
      "|         [0.0053049]|         [4.6051254]|         [3.0239851]|    [1.0, 1.0, -1.0]|\n",
      "|                  []|                  []|                  []|[1.0, 1.0, -1.0, ...|\n",
      "|                  []|                  []|                  []|[1.0, 1.0, -1.0, ...|\n",
      "|        [0.93110394]|         [27.388573]|         [3.0090332]|                  []|\n",
      "+--------------------+--------------------+--------------------+--------------------+\n",
      "only showing top 20 rows\n",
      "\n",
      "+--------------------+\n",
      "|          Trk_charge|\n",
      "+--------------------+\n",
      "|[1.0, 1.0, 1.0, 1...|\n",
      "|[1.0, 1.0, -1.0, ...|\n",
      "|[-1.0, 1.0, 1.0, ...|\n",
      "|[1.0, -1.0, 1.0, ...|\n",
      "|[-1.0, 1.0, 1.0, ...|\n",
      "|[-1.0, 1.0, 1.0, ...|\n",
      "|[1.0, -1.0, -1.0,...|\n",
      "|[1.0, 1.0, 1.0, -...|\n",
      "|[1.0, -1.0, -1.0,...|\n",
      "|[-1.0, 1.0, 1.0, ...|\n",
      "|[1.0, -1.0, -1.0,...|\n",
      "|[-1.0, 1.0, 1.0, ...|\n",
      "|               [1.0]|\n",
      "|[-1.0, 1.0, 1.0, ...|\n",
      "|[1.0, 1.0, 1.0, -...|\n",
      "|[-1.0, 1.0, 1.0, ...|\n",
      "|    [1.0, 1.0, -1.0]|\n",
      "|[1.0, 1.0, -1.0, ...|\n",
      "|[1.0, 1.0, -1.0, ...|\n",
      "|                  []|\n",
      "+--------------------+\n",
      "only showing top 20 rows\n",
      "\n"
     ]
    }
   ],
   "source": [
    "selection.show()\n",
    "#emprob.show()\n",
    "trk_charge.show()\n",
    "#emcalene.show()\n",
    "#theta.show()"
   ]
  },
  {
   "cell_type": "code",
   "execution_count": 11,
   "metadata": {},
   "outputs": [
    {
     "data": {
      "text/plain": [
       "DataFrame[Emprob: array<float>, Trk_charge: array<float>, Emcalene: array<float>, Emth: array<float>]"
      ]
     },
     "execution_count": 11,
     "metadata": {},
     "output_type": "execute_result"
    }
   ],
   "source": [
    "selection"
   ]
  },
  {
   "cell_type": "code",
   "execution_count": 12,
   "metadata": {},
   "outputs": [
    {
     "name": "stdout",
     "output_type": "stream",
     "text": [
      "+--------------------+\n",
      "|          Trk_Charge|\n",
      "+--------------------+\n",
      "|[1.0, 1.0, 1.0, 1...|\n",
      "|[1.0, 1.0, -1.0, ...|\n",
      "|[-1.0, 1.0, 1.0, ...|\n",
      "|[1.0, -1.0, 1.0, ...|\n",
      "|[-1.0, 1.0, 1.0, ...|\n",
      "|[-1.0, 1.0, 1.0, ...|\n",
      "|[1.0, -1.0, -1.0,...|\n",
      "|[1.0, 1.0, 1.0, -...|\n",
      "|[1.0, -1.0, -1.0,...|\n",
      "|[-1.0, 1.0, 1.0, ...|\n",
      "|[1.0, -1.0, -1.0,...|\n",
      "|[-1.0, 1.0, 1.0, ...|\n",
      "|               [1.0]|\n",
      "|[-1.0, 1.0, 1.0, ...|\n",
      "|[1.0, 1.0, 1.0, -...|\n",
      "|[-1.0, 1.0, 1.0, ...|\n",
      "|    [1.0, 1.0, -1.0]|\n",
      "|[1.0, 1.0, -1.0, ...|\n",
      "|[1.0, 1.0, -1.0, ...|\n",
      "|                  []|\n",
      "+--------------------+\n",
      "only showing top 20 rows\n",
      "\n",
      "+--------------------+\n",
      "|              Emprob|\n",
      "+--------------------+\n",
      "|[0.08723083, 0.25...|\n",
      "|[0.939351, 0.2585...|\n",
      "|[0.037284255, 0.0...|\n",
      "|        [0.55371076]|\n",
      "|                  []|\n",
      "|[0.48681435, 0.00...|\n",
      "|        [0.92922276]|\n",
      "|                  []|\n",
      "|[0.93522364, 0.02...|\n",
      "|         [0.9350373]|\n",
      "|       [3.645794E-5]|\n",
      "|         [0.3580788]|\n",
      "|[0.73354083, 0.43...|\n",
      "|        [0.06654061]|\n",
      "|                  []|\n",
      "|        [0.46746105]|\n",
      "|         [0.0053049]|\n",
      "|                  []|\n",
      "|                  []|\n",
      "|        [0.93110394]|\n",
      "+--------------------+\n",
      "only showing top 20 rows\n",
      "\n",
      "+--------------------+\n",
      "|            Emcalene|\n",
      "+--------------------+\n",
      "|[16.42564, 5.8450...|\n",
      "|[5.1453853, 4.929...|\n",
      "|[19.95356, 4.6684...|\n",
      "|         [6.7391124]|\n",
      "|                  []|\n",
      "|[7.0863314, 5.864...|\n",
      "|          [27.94636]|\n",
      "|                  []|\n",
      "|[22.427814, 4.715...|\n",
      "|         [12.521043]|\n",
      "|          [8.177666]|\n",
      "|         [7.1608033]|\n",
      "|[10.717335, 4.129...|\n",
      "|          [6.057034]|\n",
      "|                  []|\n",
      "|         [21.793573]|\n",
      "|         [4.6051254]|\n",
      "|                  []|\n",
      "|                  []|\n",
      "|         [27.388573]|\n",
      "+--------------------+\n",
      "only showing top 20 rows\n",
      "\n",
      "+--------------------+\n",
      "|                Emth|\n",
      "+--------------------+\n",
      "|[3.036166, 0.2000...|\n",
      "|[3.018555, 0.0571...|\n",
      "|[3.052607, 0.0831...|\n",
      "|         [3.0720887]|\n",
      "|                  []|\n",
      "|[2.9617953, 0.145...|\n",
      "|         [2.9795275]|\n",
      "|                  []|\n",
      "|[3.0406399, 0.184...|\n",
      "|         [3.0350533]|\n",
      "|        [0.10435271]|\n",
      "|          [2.972933]|\n",
      "|[3.0684764, 3.028...|\n",
      "|        [0.09108353]|\n",
      "|                  []|\n",
      "|         [3.0596297]|\n",
      "|         [3.0239851]|\n",
      "|                  []|\n",
      "|                  []|\n",
      "|         [3.0090332]|\n",
      "+--------------------+\n",
      "only showing top 20 rows\n",
      "\n"
     ]
    }
   ],
   "source": [
    "selection.select(\"Trk_Charge\").show()\n",
    "selection.select(\"Emprob\").show()\n",
    "selection.select(\"Emcalene\").show()\n",
    "selection.select(\"Emth\").show()"
   ]
  },
  {
   "cell_type": "markdown",
   "metadata": {},
   "source": [
    "# Creating some basic Histograms"
   ]
  },
  {
   "cell_type": "code",
   "execution_count": 13,
   "metadata": {},
   "outputs": [
    {
     "data": {
      "text/plain": [
       "<matplotlib.axes._subplots.AxesSubplot at 0x7faff374ce90>"
      ]
     },
     "execution_count": 13,
     "metadata": {},
     "output_type": "execute_result"
    },
    {
     "data": {
      "image/png": "[encoded data removed]",
      "text/plain": [
       "<matplotlib.figure.Figure at 0x7fafea89ddd0>"
      ]
     },
     "metadata": {},
     "output_type": "display_data"
    }
   ],
   "source": [
    "emcalene_rdd = selection.select(\"Emcalene\").rdd\n",
    "empty = hist.Bin(100, 0, 50, lambda x: x)\n",
    "filled = emcalene_rdd.flatMap(lambda row: row[0]).aggregate(empty, hist.increment, hist.combine)\n",
    "%matplotlib inline\n",
    "filled.plot.matplotlib(name=\"Emcalene Histogram\")"
   ]
  },
  {
   "cell_type": "code",
   "execution_count": 14,
   "metadata": {
    "collapsed": true
   },
   "outputs": [],
   "source": [
    "#histogram = filled.plot.root(\"Data Stats\", \"Emcalene\")\n",
    "#c = ROOT.TCanvas(\"c\")\n",
    "#histogram.Draw()\n",
    "#c.Draw()"
   ]
  },
  {
   "cell_type": "code",
   "execution_count": 15,
   "metadata": {},
   "outputs": [
    {
     "data": {
      "text/plain": [
       "<matplotlib.axes._subplots.AxesSubplot at 0x7fafeac79390>"
      ]
     },
     "execution_count": 15,
     "metadata": {},
     "output_type": "execute_result"
    },
    {
     "data": {
      "image/png": "[encoded data removed]",
      "text/plain": [
       "<matplotlib.figure.Figure at 0x7fafea7d8590>"
      ]
     },
     "metadata": {},
     "output_type": "display_data"
    }
   ],
   "source": [
    "emth_rdd = selection.select(\"Emth\").rdd\n",
    "empty = hist.Bin(100, 0, 4, lambda x: x)\n",
    "filled = emth_rdd.flatMap(lambda row: row[0]).aggregate(empty, hist.increment, hist.combine)\n",
    "%matplotlib inline\n",
    "filled.plot.matplotlib(name=\"Emth Histogram\")"
   ]
  },
  {
   "cell_type": "code",
   "execution_count": 16,
   "metadata": {
    "collapsed": true
   },
   "outputs": [],
   "source": [
    "#histogram2 = filled.plot.root(\"Statistics\", \"Emth\")\n",
    "#d = ROOT.TCanvas(\"d\")\n",
    "#histogram2.Draw()\n",
    "#d.Draw()"
   ]
  },
  {
   "cell_type": "code",
   "execution_count": 17,
   "metadata": {},
   "outputs": [
    {
     "data": {
      "text/plain": [
       "[Row(Emth=[3.036165952682495, 0.20001855492591858, 0.1123889684677124]),\n",
       " Row(Emth=[3.018554925918579, 0.057119257748126984]),\n",
       " Row(Emth=[3.0526070594787598, 0.0831870511174202]),\n",
       " Row(Emth=[3.0720887184143066]),\n",
       " Row(Emth=[])]"
      ]
     },
     "execution_count": 17,
     "metadata": {},
     "output_type": "execute_result"
    }
   ],
   "source": [
    "# Do cos(theta) histogram - apply function to RDD\n",
    "emth_rdd.take(5)"
   ]
  },
  {
   "cell_type": "markdown",
   "metadata": {},
   "source": [
    "# Operating on RDD's"
   ]
  },
  {
   "cell_type": "code",
   "execution_count": 18,
   "metadata": {
    "collapsed": true
   },
   "outputs": [],
   "source": [
    "# Define function to use cosine on theta rdd\n",
    "def cos_theta(row):\n",
    "    new_array = []\n",
    "    for array in row:\n",
    "        for item in array:\n",
    "            new_array.append(cos(item))\n",
    "    return new_array"
   ]
  },
  {
   "cell_type": "code",
   "execution_count": 19,
   "metadata": {},
   "outputs": [
    {
     "data": {
      "text/plain": [
       "[3.036165952682495, 0.20001855492591858, 0.1123889684677124]"
      ]
     },
     "execution_count": 19,
     "metadata": {},
     "output_type": "execute_result"
    }
   ],
   "source": [
    "emth_rdd.first()[0]"
   ]
  },
  {
   "cell_type": "code",
   "execution_count": 20,
   "metadata": {},
   "outputs": [
    {
     "data": {
      "text/plain": [
       "3.036165952682495"
      ]
     },
     "execution_count": 20,
     "metadata": {},
     "output_type": "execute_result"
    }
   ],
   "source": [
    "emth_rdd.first()[0][0]"
   ]
  },
  {
   "cell_type": "code",
   "execution_count": 21,
   "metadata": {},
   "outputs": [
    {
     "data": {
      "text/plain": [
       "[[-0.9944477509003727, 0.9800628913778154, 0.9936910049699835],\n",
       " [-0.9924404026175052, 0.9983691386748126],\n",
       " [-0.9960433938987041, 0.9965419521189489],\n",
       " [-0.9975855736993198],\n",
       " []]"
      ]
     },
     "execution_count": 21,
     "metadata": {},
     "output_type": "execute_result"
    }
   ],
   "source": [
    "cos_emth_rdd = emth_rdd.map(cos_theta)\n",
    "cos_emth_rdd.take(5)"
   ]
  },
  {
   "cell_type": "code",
   "execution_count": 22,
   "metadata": {},
   "outputs": [
    {
     "name": "stdout",
     "output_type": "stream",
     "text": [
      "<class 'pyspark.rdd.RDD'>\n",
      "<class 'pyspark.rdd.PipelinedRDD'>\n"
     ]
    }
   ],
   "source": [
    "print type(emth_rdd)\n",
    "print type(cos_emth_rdd)"
   ]
  },
  {
   "cell_type": "code",
   "execution_count": 23,
   "metadata": {},
   "outputs": [
    {
     "data": {
      "text/plain": [
       "<matplotlib.axes._subplots.AxesSubplot at 0x7fafea27d450>"
      ]
     },
     "execution_count": 23,
     "metadata": {},
     "output_type": "execute_result"
    },
    {
     "data": {
      "image/png": "[encoded data removed]",
      "text/plain": [
       "<matplotlib.figure.Figure at 0x7fafe9d54710>"
      ]
     },
     "metadata": {},
     "output_type": "display_data"
    }
   ],
   "source": [
    "empty = hist.Bin(100, 0.85, 1.05, lambda x: x)\n",
    "filled = cos_emth_rdd.flatMap(lambda row: row).aggregate(empty, hist.increment, hist.combine)\n",
    "%matplotlib inline\n",
    "filled.plot.matplotlib(name=\"Cosine of Emth Histogram\")"
   ]
  },
  {
   "cell_type": "code",
   "execution_count": 24,
   "metadata": {
    "collapsed": true
   },
   "outputs": [],
   "source": [
    "#histogram3 = filled.plot.root(\"Cosine(Emth) Statistics\", \"Cosine Emth\")\n",
    "#e = ROOT.TCanvas(\"e\")\n",
    "#histogram3.Draw()\n",
    "#e.Draw()"
   ]
  },
  {
   "cell_type": "markdown",
   "metadata": {},
   "source": [
    "# Calculating $Q^2$"
   ]
  },
  {
   "cell_type": "code",
   "execution_count": 25,
   "metadata": {
    "collapsed": true
   },
   "outputs": [],
   "source": [
    "emcalene_rdd = selection.select(\"Emcalene\").rdd\n",
    "\n",
    "def scale_mult(row):\n",
    "    new_array = []\n",
    "    for array in row:\n",
    "        for item in array:\n",
    "            new_array.append(item*4.0*27.5)\n",
    "    return new_array    \n",
    "\n",
    "coefficient_rdd = emcalene_rdd.map(scale_mult)"
   ]
  },
  {
   "cell_type": "code",
   "execution_count": 26,
   "metadata": {
    "collapsed": true
   },
   "outputs": [],
   "source": [
    "def angle_calc(row):\n",
    "    new_array = []\n",
    "    for array in row:\n",
    "        for item in array:\n",
    "            new_array.append((cos(item/2))**2)\n",
    "    return new_array    "
   ]
  },
  {
   "cell_type": "code",
   "execution_count": 27,
   "metadata": {
    "collapsed": true
   },
   "outputs": [],
   "source": [
    "angle_rdd = emth_rdd.map(angle_calc)"
   ]
  },
  {
   "cell_type": "code",
   "execution_count": 28,
   "metadata": {},
   "outputs": [
    {
     "data": {
      "text/plain": [
       "[Row(Emcalene=[16.425640106201172, 5.845077991485596, 6.004647731781006]),\n",
       " Row(Emcalene=[5.145385265350342, 4.929872035980225]),\n",
       " Row(Emcalene=[19.95355987548828, 4.668456554412842]),\n",
       " Row(Emcalene=[6.739112377166748]),\n",
       " Row(Emcalene=[])]"
      ]
     },
     "execution_count": 28,
     "metadata": {},
     "output_type": "execute_result"
    }
   ],
   "source": [
    "emcalene_rdd.take(5)"
   ]
  },
  {
   "cell_type": "code",
   "execution_count": 29,
   "metadata": {},
   "outputs": [
    {
     "data": {
      "text/plain": [
       "[[1806.820411682129, 642.9585790634155, 660.5112504959106],\n",
       " [565.9923791885376, 542.2859239578247],\n",
       " [2194.891586303711, 513.5302209854126],\n",
       " [741.3023614883423],\n",
       " []]"
      ]
     },
     "execution_count": 29,
     "metadata": {},
     "output_type": "execute_result"
    }
   ],
   "source": [
    "coefficient_rdd.take(5)"
   ]
  },
  {
   "cell_type": "code",
   "execution_count": 30,
   "metadata": {},
   "outputs": [
    {
     "data": {
      "text/plain": [
       "[Row(Emth=[3.036165952682495, 0.20001855492591858, 0.1123889684677124]),\n",
       " Row(Emth=[3.018554925918579, 0.057119257748126984]),\n",
       " Row(Emth=[3.0526070594787598, 0.0831870511174202]),\n",
       " Row(Emth=[3.0720887184143066]),\n",
       " Row(Emth=[])]"
      ]
     },
     "execution_count": 30,
     "metadata": {},
     "output_type": "execute_result"
    }
   ],
   "source": [
    "emth_rdd.take(5)"
   ]
  },
  {
   "cell_type": "code",
   "execution_count": 31,
   "metadata": {},
   "outputs": [
    {
     "data": {
      "text/plain": [
       "[[0.0027761245498136118, 0.9900314456889077, 0.9968455024849918],\n",
       " [0.0037797986912474026, 0.9991845693374064],\n",
       " [0.0019783030506479713, 0.9982709760594745],\n",
       " [0.0012072131503401032],\n",
       " []]"
      ]
     },
     "execution_count": 31,
     "metadata": {},
     "output_type": "execute_result"
    }
   ],
   "source": [
    "angle_rdd.take(5)"
   ]
  },
  {
   "cell_type": "code",
   "execution_count": 32,
   "metadata": {
    "collapsed": true
   },
   "outputs": [],
   "source": [
    "#def rdd_mult(row):\n",
    "#    new_array = []\n",
    "#    index = 0\n",
    "#    for item in array:\n",
    "        # This next line cannot get to work - you must use rdd.take(num)[row index][element index]\n",
    "        # no way to keep track of row indexes\n",
    "        #new_array.append(item*angle_rdd_element)\n",
    "#        index += 1\n",
    "#    return new_array"
   ]
  },
  {
   "cell_type": "code",
   "execution_count": 33,
   "metadata": {
    "collapsed": true
   },
   "outputs": [],
   "source": [
    "#q2_rdd = coefficient_rdd\n",
    "#q2_rdd = q2_rdd.map(rdd_mult)"
   ]
  },
  {
   "cell_type": "code",
   "execution_count": 34,
   "metadata": {
    "collapsed": true
   },
   "outputs": [],
   "source": [
    "#q2_rdd.take(5)"
   ]
  },
  {
   "cell_type": "markdown",
   "metadata": {},
   "source": [
    "Possibly use reduceByKey, join, leftOuterJoin, union, functions\n",
    "\n",
    "Then use withColumn function?"
   ]
  },
  {
   "cell_type": "code",
   "execution_count": 35,
   "metadata": {
    "collapsed": true
   },
   "outputs": [],
   "source": [
    "# Creates a list (Bad merging)\n",
    "#operation_rdd = angle_rdd.union(coefficient_rdd).collect()"
   ]
  },
  {
   "cell_type": "markdown",
   "metadata": {},
   "source": [
    "As far as I can tell, there is no way to multiply the elements of two RDD's together to make a third RDD.  Thus, I will go back to the dataframe and redo the operations to create a new column that is the calculation of Q^2.  This new column I will then make into an RDD."
   ]
  },
  {
   "cell_type": "code",
   "execution_count": 36,
   "metadata": {
    "collapsed": true
   },
   "outputs": [],
   "source": [
    "#new_df = selection.withColumn('Q2', 4.0*27.5*selection.Emcalene*(cos(selection.Emth/2))**2)"
   ]
  },
  {
   "cell_type": "markdown",
   "metadata": {},
   "source": [
    "Possibly create new blank columns, then modify then with map.  Maybe can create function that will split the lists and create a column solely of floats - but would be different length then original.\n",
    "\n",
    "Thus, maybe create completely new dataframe with these \"arrays\" split into individual elements."
   ]
  },
  {
   "cell_type": "code",
   "execution_count": 37,
   "metadata": {
    "collapsed": true
   },
   "outputs": [],
   "source": [
    "# Below is how to add a column solely with zeros - may or may not be useful\n",
    "\n",
    "#from pyspark.sql.functions import lit\n",
    "#new_df = selection.withColumn(\"Q2\",lit(0))"
   ]
  },
  {
   "cell_type": "markdown",
   "metadata": {},
   "source": [
    "## Attempting to Split Arrays"
   ]
  },
  {
   "cell_type": "markdown",
   "metadata": {},
   "source": [
    "As stated above, splitting the arrays of the RDD's would create new RDD's with entries of floats (hopefully)\n",
    "\n",
    "Then, the hope is to combine these two RDD's into a dataframe, and then use withColumn to multiply the two columns into a third column that is the calculation of $Q^2$."
   ]
  },
  {
   "cell_type": "markdown",
   "metadata": {},
   "source": [
    "### NOTE: This actually breaks.  split_array_vals only returns the first item from each array!!!"
   ]
  },
  {
   "cell_type": "code",
   "execution_count": 38,
   "metadata": {
    "collapsed": true
   },
   "outputs": [],
   "source": [
    "def split_array_vals(array):\n",
    "    for item in array:\n",
    "        return item"
   ]
  },
  {
   "cell_type": "code",
   "execution_count": 39,
   "metadata": {
    "collapsed": true
   },
   "outputs": [],
   "source": [
    "angle_split = angle_rdd.map(split_array_vals)\n",
    "coef_split = coefficient_rdd.map(split_array_vals)"
   ]
  },
  {
   "cell_type": "code",
   "execution_count": 40,
   "metadata": {},
   "outputs": [
    {
     "name": "stdout",
     "output_type": "stream",
     "text": [
      "<class 'pyspark.rdd.PipelinedRDD'>\n",
      "<class 'pyspark.rdd.PipelinedRDD'>\n",
      "<class 'pyspark.rdd.PipelinedRDD'>\n"
     ]
    }
   ],
   "source": [
    "print type(angle_split)\n",
    "print type(angle_rdd)\n",
    "print type(coef_split)"
   ]
  },
  {
   "cell_type": "code",
   "execution_count": 41,
   "metadata": {},
   "outputs": [
    {
     "data": {
      "text/plain": [
       "[0.0027761245498136118,\n",
       " 0.0037797986912474026,\n",
       " 0.0019783030506479713,\n",
       " 0.0012072131503401032,\n",
       " None]"
      ]
     },
     "execution_count": 41,
     "metadata": {},
     "output_type": "execute_result"
    }
   ],
   "source": [
    "# Can see that it only took 1st item from each array\n",
    "angle_split.take(5)"
   ]
  },
  {
   "cell_type": "code",
   "execution_count": 42,
   "metadata": {},
   "outputs": [
    {
     "data": {
      "text/plain": [
       "[1806.820411682129,\n",
       " 565.9923791885376,\n",
       " 2194.891586303711,\n",
       " 741.3023614883423,\n",
       " None]"
      ]
     },
     "execution_count": 42,
     "metadata": {},
     "output_type": "execute_result"
    }
   ],
   "source": [
    "# Can see that it only took 1st item from each array\n",
    "coef_split.take(5)"
   ]
  },
  {
   "cell_type": "code",
   "execution_count": 43,
   "metadata": {
    "collapsed": true
   },
   "outputs": [],
   "source": [
    "#from pyspark.sql.types import StructType\n",
    "#from pyspark.sql.types import StructField\n",
    "#from pyspark.sql.types import StringType\n",
    "\n",
    "#schema = StructType([StructField(str(i), StringType(), True) for i in range(32)])\n",
    "\n",
    "#df = sqlContext.createDataFrame(new_df, schema)"
   ]
  },
  {
   "cell_type": "code",
   "execution_count": 44,
   "metadata": {
    "collapsed": true
   },
   "outputs": [],
   "source": [
    "#df.show()"
   ]
  },
  {
   "cell_type": "markdown",
   "metadata": {
    "collapsed": true
   },
   "source": [
    "## RDD with multiple columns"
   ]
  },
  {
   "cell_type": "code",
   "execution_count": 45,
   "metadata": {},
   "outputs": [
    {
     "data": {
      "text/plain": [
       "[Row(Emcalene=[16.425640106201172, 5.845077991485596, 6.004647731781006], Emth=[3.036165952682495, 0.20001855492591858, 0.1123889684677124]),\n",
       " Row(Emcalene=[5.145385265350342, 4.929872035980225], Emth=[3.018554925918579, 0.057119257748126984]),\n",
       " Row(Emcalene=[19.95355987548828, 4.668456554412842], Emth=[3.0526070594787598, 0.0831870511174202]),\n",
       " Row(Emcalene=[6.739112377166748], Emth=[3.0720887184143066]),\n",
       " Row(Emcalene=[], Emth=[])]"
      ]
     },
     "execution_count": 45,
     "metadata": {},
     "output_type": "execute_result"
    }
   ],
   "source": [
    "emcal_emth = selection.select(\"Emcalene\",\"Emth\").rdd\n",
    "emcal_emth.take(5)"
   ]
  },
  {
   "cell_type": "code",
   "execution_count": 46,
   "metadata": {
    "collapsed": true
   },
   "outputs": [],
   "source": [
    "def testing(row):\n",
    "    return (row[0],row[1])"
   ]
  },
  {
   "cell_type": "code",
   "execution_count": 47,
   "metadata": {},
   "outputs": [
    {
     "data": {
      "text/plain": [
       "[([16.425640106201172, 5.845077991485596, 6.004647731781006],\n",
       "  [3.036165952682495, 0.20001855492591858, 0.1123889684677124]),\n",
       " ([5.145385265350342, 4.929872035980225],\n",
       "  [3.018554925918579, 0.057119257748126984]),\n",
       " ([19.95355987548828, 4.668456554412842],\n",
       "  [3.0526070594787598, 0.0831870511174202]),\n",
       " ([6.739112377166748], [3.0720887184143066]),\n",
       " ([], [])]"
      ]
     },
     "execution_count": 47,
     "metadata": {},
     "output_type": "execute_result"
    }
   ],
   "source": [
    "test = emcal_emth.map(testing)\n",
    "test.take(5)"
   ]
  },
  {
   "cell_type": "code",
   "execution_count": 48,
   "metadata": {
    "collapsed": true
   },
   "outputs": [],
   "source": [
    "def match_pairs(row):\n",
    "    array = []\n",
    "    for x,y in zip(row[0],row[1]):\n",
    "        array.append((x,y))\n",
    "    return array"
   ]
  },
  {
   "cell_type": "code",
   "execution_count": 49,
   "metadata": {},
   "outputs": [
    {
     "data": {
      "text/plain": [
       "[[(16.425640106201172, 3.036165952682495),\n",
       "  (5.845077991485596, 0.20001855492591858),\n",
       "  (6.004647731781006, 0.1123889684677124)],\n",
       " [(5.145385265350342, 3.018554925918579),\n",
       "  (4.929872035980225, 0.057119257748126984)],\n",
       " [(19.95355987548828, 3.0526070594787598),\n",
       "  (4.668456554412842, 0.0831870511174202)],\n",
       " [(6.739112377166748, 3.0720887184143066)],\n",
       " []]"
      ]
     },
     "execution_count": 49,
     "metadata": {},
     "output_type": "execute_result"
    }
   ],
   "source": [
    "emcal_emth_pairs = emcal_emth.map(match_pairs)\n",
    "emcal_emth_pairs.take(5)"
   ]
  },
  {
   "cell_type": "markdown",
   "metadata": {},
   "source": [
    "## Calculating $Q^2$ using pairs"
   ]
  },
  {
   "cell_type": "code",
   "execution_count": 50,
   "metadata": {
    "collapsed": true
   },
   "outputs": [],
   "source": [
    "def q_2(row):\n",
    "    calcs = []\n",
    "    for pair in row:\n",
    "        q2 = 27.5*4*pair[0]*(cos(pair[1]/2))**2\n",
    "        calcs.append(q2)\n",
    "    return calcs"
   ]
  },
  {
   "cell_type": "code",
   "execution_count": 51,
   "metadata": {},
   "outputs": [
    {
     "data": {
      "text/plain": [
       "[[5.015958501975095, 636.5492115482391, 658.4276693975863],\n",
       " [2.139337254112838, 541.8437273875365],\n",
       " [4.342160721026197, 512.6423149391454],\n",
       " [0.8949099591668996],\n",
       " []]"
      ]
     },
     "execution_count": 51,
     "metadata": {},
     "output_type": "execute_result"
    }
   ],
   "source": [
    "q2_calc = emcal_emth_pairs.map(q_2)\n",
    "q2_calc.take(5)"
   ]
  },
  {
   "cell_type": "code",
   "execution_count": 52,
   "metadata": {},
   "outputs": [
    {
     "data": {
      "text/plain": [
       "[5.015958501975095,\n",
       " 636.5492115482391,\n",
       " 658.4276693975863,\n",
       " 2.139337254112838,\n",
       " 541.8437273875365,\n",
       " 4.342160721026197,\n",
       " 512.6423149391454,\n",
       " 0.8949099591668996,\n",
       " 6.282757892117972,\n",
       " 641.7099066150637]"
      ]
     },
     "execution_count": 52,
     "metadata": {},
     "output_type": "execute_result"
    }
   ],
   "source": [
    "# Flattening the results\n",
    "q2_calc_flat = q2_calc.flatMap(lambda x: x)\n",
    "q2_calc_flat.take(10)"
   ]
  },
  {
   "cell_type": "code",
   "execution_count": 53,
   "metadata": {},
   "outputs": [
    {
     "data": {
      "text/plain": [
       "0.09783406999141177"
      ]
     },
     "execution_count": 53,
     "metadata": {},
     "output_type": "execute_result"
    }
   ],
   "source": [
    "q2_calc_flat.min()"
   ]
  },
  {
   "cell_type": "code",
   "execution_count": 54,
   "metadata": {},
   "outputs": [
    {
     "data": {
      "text/plain": [
       "27489.788956300265"
      ]
     },
     "execution_count": 54,
     "metadata": {},
     "output_type": "execute_result"
    }
   ],
   "source": [
    "q2_calc_flat.max()"
   ]
  },
  {
   "cell_type": "code",
   "execution_count": 55,
   "metadata": {},
   "outputs": [
    {
     "data": {
      "text/plain": [
       "<matplotlib.axes._subplots.AxesSubplot at 0x7fafe9b3d190>"
      ]
     },
     "execution_count": 55,
     "metadata": {},
     "output_type": "execute_result"
    },
    {
     "data": {
      "image/png": "[encoded data removed]",
      "text/plain": [
       "<matplotlib.figure.Figure at 0x7fafe9dab5d0>"
      ]
     },
     "metadata": {},
     "output_type": "display_data"
    }
   ],
   "source": [
    "empty = hist.Bin(100, 0, 3000, lambda x: x)\n",
    "filled = q2_calc_flat.aggregate(empty, hist.increment, hist.combine)\n",
    "%matplotlib inline\n",
    "filled.plot.matplotlib(name=\"Q^2\")"
   ]
  },
  {
   "cell_type": "code",
   "execution_count": 56,
   "metadata": {},
   "outputs": [
    {
     "data": {
      "text/plain": [
       "[6.209185600280762,\n",
       " 696.8456420898438,\n",
       " 725.750244140625,\n",
       " 2.297110080718994,\n",
       " 562.731201171875,\n",
       " 4.466527938842773,\n",
       " 540.8382568359375,\n",
       " 0.9930397868156433,\n",
       " 6.8785529136657715,\n",
       " 684.3646240234375]"
      ]
     },
     "execution_count": 56,
     "metadata": {},
     "output_type": "execute_result"
    }
   ],
   "source": [
    "emq2el = df.select(\"Emq2el\").rdd\n",
    "#emq2el.take(5)\n",
    "q2flat_data = emq2el.flatMap(lambda x: x[0])\n",
    "q2flat_data.take(10)"
   ]
  },
  {
   "cell_type": "code",
   "execution_count": 57,
   "metadata": {},
   "outputs": [
    {
     "data": {
      "text/plain": [
       "[(5.015958501975095, 6.209185600280762),\n",
       " (636.5492115482391, 696.8456420898438),\n",
       " (658.4276693975863, 725.750244140625),\n",
       " (2.139337254112838, 2.297110080718994),\n",
       " (541.8437273875365, 562.731201171875)]"
      ]
     },
     "execution_count": 57,
     "metadata": {},
     "output_type": "execute_result"
    }
   ],
   "source": [
    "points = q2_calc_flat.zip(q2flat_data)\n",
    "points.take(5)"
   ]
  },
  {
   "cell_type": "code",
   "execution_count": 58,
   "metadata": {},
   "outputs": [
    {
     "name": "stdout",
     "output_type": "stream",
     "text": [
      "<class 'pyspark.rdd.RDD'>\n"
     ]
    }
   ],
   "source": [
    "print type(points)"
   ]
  },
  {
   "cell_type": "code",
   "execution_count": 59,
   "metadata": {
    "collapsed": true
   },
   "outputs": [],
   "source": [
    "# Needs to be fed x and y values separately inside scatter command...but RDD not iterable \n",
    "#plt.scatter(points)"
   ]
  },
  {
   "cell_type": "markdown",
   "metadata": {},
   "source": [
    "Could not figure out how to make scatterplot with RDD - Viktor said to use DataFrames"
   ]
  },
  {
   "cell_type": "markdown",
   "metadata": {},
   "source": [
    "# RDD's are not as Efficient as DataFrames"
   ]
  },
  {
   "cell_type": "markdown",
   "metadata": {},
   "source": [
    "## Try to do the same with a DataFrame"
   ]
  },
  {
   "cell_type": "code",
   "execution_count": 60,
   "metadata": {},
   "outputs": [
    {
     "name": "stdout",
     "output_type": "stream",
     "text": [
      "+--------------------+--------------------+--------------------+\n",
      "|            Emcalene|                Emth|              Emq2el|\n",
      "+--------------------+--------------------+--------------------+\n",
      "|[16.42564, 5.8450...|[3.036166, 0.2000...|[6.2091856, 696.8...|\n",
      "|[5.1453853, 4.929...|[3.018555, 0.0571...| [2.29711, 562.7312]|\n",
      "|[19.95356, 4.6684...|[3.052607, 0.0831...|[4.466528, 540.83...|\n",
      "|         [6.7391124]|         [3.0720887]|         [0.9930398]|\n",
      "|                  []|                  []|                  []|\n",
      "+--------------------+--------------------+--------------------+\n",
      "only showing top 5 rows\n",
      "\n"
     ]
    }
   ],
   "source": [
    "data = df.select(\"Emcalene\",\"Emth\",\"Emq2el\")\n",
    "data.show(5)"
   ]
  },
  {
   "cell_type": "code",
   "execution_count": 61,
   "metadata": {
    "collapsed": true
   },
   "outputs": [],
   "source": [
    "#data2 = data.withColumn(\"q2\",4*27.5*data.Emcalene*(cos(data.Emth/2))**2)"
   ]
  },
  {
   "cell_type": "code",
   "execution_count": 62,
   "metadata": {
    "collapsed": true
   },
   "outputs": [],
   "source": [
    "# testing explode\n",
    "#dfa = sqlContext.createDataFrame([Row(a=1, b=[1,2,3],c=[7,8,9]), Row(a=2, b=[4,5,6],c=[10,11,12])])\n",
    "#dfb = dfa.select(dfa.a,explode(dfa.b).alias(\"b_row\"),dfa.c)\n",
    "#dfc = dfb.select(dfb.a,dfb.b_row,explode(dfb.c).alias(\"c_row\"))"
   ]
  },
  {
   "cell_type": "code",
   "execution_count": 63,
   "metadata": {
    "collapsed": true
   },
   "outputs": [],
   "source": [
    "# testing explode - it does cartesian product - I only want to map elements of same index of arrays together\n",
    "#dfa.show()\n",
    "#dfb.show()\n",
    "#dfc.show()"
   ]
  },
  {
   "cell_type": "code",
   "execution_count": 64,
   "metadata": {},
   "outputs": [
    {
     "name": "stdout",
     "output_type": "stream",
     "text": [
      "+---+---------+-----------+\n",
      "|  a|  intlist|   mapfield|\n",
      "+---+---------+-----------+\n",
      "|  1|[1, 2, 3]|Map(a -> b)|\n",
      "+---+---------+-----------+\n",
      "\n"
     ]
    }
   ],
   "source": [
    "from pyspark.sql import Row\n",
    "eDF = spark.createDataFrame([Row(a=1, intlist=[1,2,3], mapfield={\"a\": \"b\"})])\n",
    "eDF.show()"
   ]
  },
  {
   "cell_type": "code",
   "execution_count": 65,
   "metadata": {},
   "outputs": [
    {
     "name": "stdout",
     "output_type": "stream",
     "text": [
      "<class 'pyspark.sql.dataframe.DataFrame'>\n",
      "+-----+\n",
      "|anInt|\n",
      "+-----+\n",
      "|    1|\n",
      "|    2|\n",
      "|    3|\n",
      "+-----+\n",
      "\n"
     ]
    }
   ],
   "source": [
    "# Would have to use with join, which would require having id or something to match on both\n",
    "from pyspark.sql.functions import explode\n",
    "print type(eDF.select(explode(eDF.intlist).alias(\"anInt\")))\n",
    "eDF.select(explode(eDF.intlist).alias(\"anInt\")).show()"
   ]
  },
  {
   "cell_type": "code",
   "execution_count": 66,
   "metadata": {
    "collapsed": true
   },
   "outputs": [],
   "source": [
    "#emcal = data.select(explode(data.Emcalene))\n",
    "#print type(emcal)\n",
    "#print type(emcal.col)\n",
    "#data2 = data.withColumn(\"Emcal\",emcal.col)"
   ]
  },
  {
   "cell_type": "code",
   "execution_count": 67,
   "metadata": {
    "collapsed": true
   },
   "outputs": [],
   "source": [
    "from pyspark.sql.functions import udf"
   ]
  },
  {
   "cell_type": "code",
   "execution_count": 68,
   "metadata": {
    "collapsed": true
   },
   "outputs": [],
   "source": [
    "#def match_pairs_dataframe(row):\n",
    "#    array = []\n",
    "#    for x,y in row[0],row[1]:\n",
    "#        for e1,e2 in zip(x,y):\n",
    "#            array.append((e1,e2))\n",
    "#    return array"
   ]
  },
  {
   "cell_type": "code",
   "execution_count": 69,
   "metadata": {
    "collapsed": true
   },
   "outputs": [],
   "source": [
    "#udfmatch = udf(match_pairs_dataframe)\n",
    "#data2 = udfmatch(data)"
   ]
  },
  {
   "cell_type": "markdown",
   "metadata": {},
   "source": [
    "# Converting RDD to DataFrame"
   ]
  },
  {
   "cell_type": "code",
   "execution_count": 70,
   "metadata": {},
   "outputs": [],
   "source": [
    "Q_data = sqlContext.createDataFrame(points, [\"Q2Calc\", \"EmQ2\"])"
   ]
  },
  {
   "cell_type": "code",
   "execution_count": 71,
   "metadata": {
    "collapsed": true
   },
   "outputs": [],
   "source": [
    "#from pyspark.sql.types import Row\n",
    "\n",
    "#here you are going to create a function\n",
    "#def f(x):\n",
    "#    d = {}\n",
    "#    for i in range(len(x)):\n",
    "#        d[str(i)] = x[i]\n",
    "#    return d\n",
    "\n",
    "#Now populate that\n",
    "#data2 = points.map(lambda x: Row(**f(x))).toDF()"
   ]
  },
  {
   "cell_type": "code",
   "execution_count": 72,
   "metadata": {},
   "outputs": [
    {
     "name": "stdout",
     "output_type": "stream",
     "text": [
      "+------------------+------------------+\n",
      "|            Q2Calc|              EmQ2|\n",
      "+------------------+------------------+\n",
      "| 5.015958501975095| 6.209185600280762|\n",
      "| 636.5492115482391| 696.8456420898438|\n",
      "| 658.4276693975863|  725.750244140625|\n",
      "| 2.139337254112838| 2.297110080718994|\n",
      "| 541.8437273875365|  562.731201171875|\n",
      "| 4.342160721026197| 4.466527938842773|\n",
      "| 512.6423149391454| 540.8382568359375|\n",
      "|0.8949099591668996|0.9930397868156433|\n",
      "| 6.282757892117972|6.8785529136657715|\n",
      "| 641.7099066150637| 684.3646240234375|\n",
      "|20.141258127207557|20.308908462524414|\n",
      "| 6.280400072171342| 6.680352210998535|\n",
      "| 514.2568237252826|    595.4931640625|\n",
      "| 990.5260859626181|  974.857177734375|\n",
      "| 3.904656723264059|   4.0141921043396|\n",
      "| 897.0965581679836| 938.6382446289062|\n",
      "| 5.588391556624824| 6.169318675994873|\n",
      "|1.5749015365931887|1.6244956254959106|\n",
      "|1.4494526920576092|1.5254446268081665|\n",
      "| 664.8928103030667|  717.348388671875|\n",
      "+------------------+------------------+\n",
      "only showing top 20 rows\n",
      "\n"
     ]
    }
   ],
   "source": [
    "Q_data.show()"
   ]
  },
  {
   "cell_type": "markdown",
   "metadata": {},
   "source": [
    "## Renaming Columns"
   ]
  },
  {
   "cell_type": "code",
   "execution_count": 73,
   "metadata": {
    "collapsed": true
   },
   "outputs": [],
   "source": [
    "#print type(data2)\n",
    "#data2.schema.names"
   ]
  },
  {
   "cell_type": "code",
   "execution_count": 74,
   "metadata": {
    "collapsed": true
   },
   "outputs": [],
   "source": [
    "from pyspark.sql.functions import *\n",
    "\n",
    "#Q_data = data2.select(col(\"0\").alias(\"Q2Calc\"), col(\"1\").alias(\"EmQ2\"))\n",
    "#Q_data.show()"
   ]
  },
  {
   "cell_type": "markdown",
   "metadata": {},
   "source": [
    "## Converting to sampled array for plotting"
   ]
  },
  {
   "cell_type": "code",
   "execution_count": 75,
   "metadata": {
    "scrolled": true
   },
   "outputs": [
    {
     "name": "stdout",
     "output_type": "stream",
     "text": [
      "Row(Q2Calc=1399.9008220263154, EmQ2=1404.45361328125)\n",
      "1399.90082203\n",
      "<type 'list'>\n",
      "[Row(Q2Calc=1399.9008220263154, EmQ2=1404.45361328125), Row(Q2Calc=690.0041466962108, EmQ2=724.9088134765625), Row(Q2Calc=3.9834198171739943, EmQ2=4.0357985496521), Row(Q2Calc=8.455514574711405, EmQ2=8.74813175201416), Row(Q2Calc=0.8520246360981556, EmQ2=1.0046520233154297), Row(Q2Calc=1.5160656065288565, EmQ2=1.607927918434143), Row(Q2Calc=27.780965266855965, EmQ2=30.79276466369629), Row(Q2Calc=6.73976863802862, EmQ2=6.9022650718688965), Row(Q2Calc=12.009652817694425, EmQ2=13.468705177307129), Row(Q2Calc=1243.7596231696518, EmQ2=1279.4476318359375), Row(Q2Calc=724.9227275697343, EmQ2=802.6975708007812), Row(Q2Calc=512.3023851035932, EmQ2=564.64404296875), Row(Q2Calc=2119.247309922437, EmQ2=2265.724609375), Row(Q2Calc=567.0265104747289, EmQ2=641.0919799804688), Row(Q2Calc=2.4631834668438475, EmQ2=2.752671957015991), Row(Q2Calc=32.4128438923566, EmQ2=33.56441116333008), Row(Q2Calc=725.8466512333039, EmQ2=813.40380859375), Row(Q2Calc=1446.4263406086336, EmQ2=1522.78466796875), Row(Q2Calc=2.2409627053100825, EmQ2=2.313624143600464), Row(Q2Calc=982.0618227153075, EmQ2=1082.070556640625), Row(Q2Calc=1428.8303995520248, EmQ2=1537.6126708984375), Row(Q2Calc=750.3362661254133, EmQ2=803.0612182617188), Row(Q2Calc=4.575710532619076, EmQ2=4.845912933349609), Row(Q2Calc=4.936188388193092, EmQ2=5.1882004737854), Row(Q2Calc=15.491467809633551, EmQ2=16.23162078857422), Row(Q2Calc=45.56327712741483, EmQ2=49.53007507324219), Row(Q2Calc=22.75634430837065, EmQ2=24.452550888061523), Row(Q2Calc=851.2221096733163, EmQ2=823.2958984375), Row(Q2Calc=724.9130428474898, EmQ2=785.0499267578125), Row(Q2Calc=9.234941906165297, EmQ2=10.1975679397583), Row(Q2Calc=929.1177863313553, EmQ2=973.0802612304688), Row(Q2Calc=655.7374939613604, EmQ2=730.8453979492188), Row(Q2Calc=587.4965902448938, EmQ2=628.4761352539062), Row(Q2Calc=3.0497907066980345, EmQ2=3.3915305137634277), Row(Q2Calc=464.2254206173513, EmQ2=483.57958984375), Row(Q2Calc=7.066057478235106, EmQ2=7.5316481590271), Row(Q2Calc=3.5096210594752173, EmQ2=3.977187395095825), Row(Q2Calc=42.289261204499624, EmQ2=82.62066650390625), Row(Q2Calc=554.5782958098603, EmQ2=592.142578125), Row(Q2Calc=600.6934561214987, EmQ2=635.2520751953125), Row(Q2Calc=4.883409961690396, EmQ2=5.152047634124756), Row(Q2Calc=582.3256392394326, EmQ2=643.610107421875), Row(Q2Calc=788.1729582190759, EmQ2=840.06201171875), Row(Q2Calc=453.25509063236353, EmQ2=475.7840881347656), Row(Q2Calc=1.496023487665457, EmQ2=1.547431230545044), Row(Q2Calc=3.755120791381852, EmQ2=3.88004207611084), Row(Q2Calc=590.8239244200068, EmQ2=526.1864013671875), Row(Q2Calc=66.88103549136537, EmQ2=87.20631408691406), Row(Q2Calc=4.316740692164066, EmQ2=4.420365333557129), Row(Q2Calc=639.3783911862115, EmQ2=731.0621337890625)]\n"
     ]
    }
   ],
   "source": [
    "Q_sample = Q_data.sample(False, 0.01, 42).collect()\n",
    "print Q_sample[0]\n",
    "print Q_sample[0][0]\n",
    "print type(Q_sample)\n",
    "print Q_sample[0:50]"
   ]
  },
  {
   "cell_type": "markdown",
   "metadata": {},
   "source": [
    "## Plotting Scatterplot"
   ]
  },
  {
   "cell_type": "code",
   "execution_count": 76,
   "metadata": {},
   "outputs": [
    {
     "data": {
      "image/png": "[encoded data removed]",
      "text/plain": [
       "<matplotlib.figure.Figure at 0x7fafdca9edd0>"
      ]
     },
     "metadata": {},
     "output_type": "display_data"
    }
   ],
   "source": [
    "for row in Q_sample:\n",
    "    x = row[0]\n",
    "    y = row[1]\n",
    "    plt.scatter(x,y)\n",
    "\n",
    "plt.title('Scatterplot CalcQ2 vs EmQ2el')\n",
    "plt.xlabel('Calculated')\n",
    "plt.ylabel('EmQ2el')   \n",
    "plt.show()"
   ]
  },
  {
   "cell_type": "markdown",
   "metadata": {},
   "source": [
    "# Filter Data with Emprob"
   ]
  },
  {
   "cell_type": "code",
   "execution_count": 77,
   "metadata": {},
   "outputs": [
    {
     "name": "stdout",
     "output_type": "stream",
     "text": [
      "<class 'pyspark.sql.dataframe.DataFrame'>\n",
      "+-------+\n",
      "|Emncand|\n",
      "+-------+\n",
      "|      3|\n",
      "|      2|\n",
      "|      2|\n",
      "|      1|\n",
      "|      0|\n",
      "|      2|\n",
      "|      1|\n",
      "|      0|\n",
      "|      3|\n",
      "|      1|\n",
      "|      1|\n",
      "|      1|\n",
      "|      2|\n",
      "|      1|\n",
      "|      0|\n",
      "|      1|\n",
      "|      1|\n",
      "|      0|\n",
      "|      0|\n",
      "|      1|\n",
      "+-------+\n",
      "only showing top 20 rows\n",
      "\n",
      "+--------------------+\n",
      "|              Emprob|\n",
      "+--------------------+\n",
      "|[0.08723083, 0.25...|\n",
      "|[0.939351, 0.2585...|\n",
      "|[0.037284255, 0.0...|\n",
      "|        [0.55371076]|\n",
      "|                  []|\n",
      "|[0.48681435, 0.00...|\n",
      "|        [0.92922276]|\n",
      "|                  []|\n",
      "|[0.93522364, 0.02...|\n",
      "|         [0.9350373]|\n",
      "|       [3.645794E-5]|\n",
      "|         [0.3580788]|\n",
      "|[0.73354083, 0.43...|\n",
      "|        [0.06654061]|\n",
      "|                  []|\n",
      "|        [0.46746105]|\n",
      "|         [0.0053049]|\n",
      "|                  []|\n",
      "|                  []|\n",
      "|        [0.93110394]|\n",
      "+--------------------+\n",
      "only showing top 20 rows\n",
      "\n"
     ]
    }
   ],
   "source": [
    "# For some reason fails when try to use df.select(\"Emprob\", \"Emncand\")\n",
    "numCand = df.select(\"Emncand\")\n",
    "print type(numCand)\n",
    "numCand.show()\n",
    "df.select(\"Emprob\").show()"
   ]
  },
  {
   "cell_type": "code",
   "execution_count": 78,
   "metadata": {},
   "outputs": [
    {
     "data": {
      "text/plain": [
       "[Row(Emprob=[0.08723083138465881, 0.25005948543548584, 0.2125348299741745], Emcalene=[16.425640106201172, 5.845077991485596, 6.004647731781006], Emth=[3.036165952682495, 0.20001855492591858, 0.1123889684677124]),\n",
       " Row(Emprob=[0.9393510222434998, 0.258521169424057], Emcalene=[5.145385265350342, 4.929872035980225], Emth=[3.018554925918579, 0.057119257748126984]),\n",
       " Row(Emprob=[0.037284255027770996, 0.0028328464832156897], Emcalene=[19.95355987548828, 4.668456554412842], Emth=[3.0526070594787598, 0.0831870511174202]),\n",
       " Row(Emprob=[0.5537107586860657], Emcalene=[6.739112377166748], Emth=[3.0720887184143066]),\n",
       " Row(Emprob=[], Emcalene=[], Emth=[])]"
      ]
     },
     "execution_count": 78,
     "metadata": {},
     "output_type": "execute_result"
    }
   ],
   "source": [
    "#filter_data = df.select(\"Emprob\",\"Emcalene\",\"Emth\").join(Q_data,[\"CalcQ2\",\"EmQ2el\"],\"outer\")\n",
    "start = df.select(\"Emprob\",\"Emcalene\",\"Emth\").rdd\n",
    "start.take(5)"
   ]
  },
  {
   "cell_type": "code",
   "execution_count": 79,
   "metadata": {
    "collapsed": true
   },
   "outputs": [],
   "source": [
    "def match_trips(row):\n",
    "    array = []\n",
    "    for a,b,c in zip(row[0],row[1],row[2]):\n",
    "        array.append((a,b,c))\n",
    "    return array"
   ]
  },
  {
   "cell_type": "code",
   "execution_count": 80,
   "metadata": {},
   "outputs": [
    {
     "data": {
      "text/plain": [
       "[(0.08723083138465881, 16.425640106201172, 3.036165952682495),\n",
       " (0.25005948543548584, 5.845077991485596, 0.20001855492591858),\n",
       " (0.2125348299741745, 6.004647731781006, 0.1123889684677124),\n",
       " (0.9393510222434998, 5.145385265350342, 3.018554925918579),\n",
       " (0.258521169424057, 4.929872035980225, 0.057119257748126984),\n",
       " (0.037284255027770996, 19.95355987548828, 3.0526070594787598),\n",
       " (0.0028328464832156897, 4.668456554412842, 0.0831870511174202),\n",
       " (0.5537107586860657, 6.739112377166748, 3.0720887184143066),\n",
       " (0.48681434988975525, 7.086331367492676, 2.9617953300476074),\n",
       " (0.0012921133311465383, 5.864682197570801, 0.1454324722290039)]"
      ]
     },
     "execution_count": 80,
     "metadata": {},
     "output_type": "execute_result"
    }
   ],
   "source": [
    "flatStart = start.flatMap(match_trips)\n",
    "flatStart.take(10)"
   ]
  },
  {
   "cell_type": "code",
   "execution_count": 81,
   "metadata": {},
   "outputs": [
    {
     "name": "stdout",
     "output_type": "stream",
     "text": [
      "+--------------------+------------------+--------------------+\n",
      "|              Emprob|          Emcalene|                Emth|\n",
      "+--------------------+------------------+--------------------+\n",
      "| 0.08723083138465881|16.425640106201172|   3.036165952682495|\n",
      "| 0.25005948543548584| 5.845077991485596| 0.20001855492591858|\n",
      "|  0.2125348299741745| 6.004647731781006|  0.1123889684677124|\n",
      "|  0.9393510222434998| 5.145385265350342|   3.018554925918579|\n",
      "|   0.258521169424057| 4.929872035980225|0.057119257748126984|\n",
      "|0.037284255027770996| 19.95355987548828|  3.0526070594787598|\n",
      "|0.002832846483215...| 4.668456554412842|  0.0831870511174202|\n",
      "|  0.5537107586860657| 6.739112377166748|  3.0720887184143066|\n",
      "| 0.48681434988975525| 7.086331367492676|  2.9617953300476074|\n",
      "|0.001292113331146...| 5.864682197570801|  0.1454324722290039|\n",
      "|  0.9292227625846863|27.946359634399414|   2.979527473449707|\n",
      "|  0.9352236390113831|22.427814483642578|   3.040639877319336|\n",
      "|0.026606209576129913| 4.715088367462158| 0.18453313410282135|\n",
      "|0.005978332832455635| 9.028997421264648| 0.10362038016319275|\n",
      "|  0.9350373148918152|12.521042823791504|   3.035053253173828|\n",
      "|3.645793913165107...| 8.177665710449219| 0.10435271263122559|\n",
      "| 0.35807880759239197| 7.160803318023682|   2.972933053970337|\n",
      "|  0.7335408329963684|10.717334747314453|   3.068476438522339|\n",
      "|  0.4391336143016815| 4.129190921783447|  3.0285520553588867|\n",
      "| 0.06654060631990433| 6.057034015655518| 0.09108352661132812|\n",
      "+--------------------+------------------+--------------------+\n",
      "only showing top 20 rows\n",
      "\n"
     ]
    }
   ],
   "source": [
    "filter_data = sqlContext.createDataFrame(flatStart, [\"Emprob\", \"Emcalene\",\"Emth\"])\n",
    "filter_data.show()"
   ]
  },
  {
   "cell_type": "code",
   "execution_count": 82,
   "metadata": {
    "collapsed": true
   },
   "outputs": [],
   "source": [
    "#filter_data = filter_data.select(col(\"0\").alias(\"Emprob\"), col(\"1\").alias(\"Emcalene\"), col(\"2\").alias(\"Emth\"))\n",
    "#filter_data.show()"
   ]
  },
  {
   "cell_type": "code",
   "execution_count": 83,
   "metadata": {
    "collapsed": true
   },
   "outputs": [],
   "source": [
    "#from pyspark.sql.window import Window\n",
    "#from pyspark.sql.functions import row_number\n",
    "#w = Window().orderBy()\n",
    "#to_join_1= filter_data.withColumn(\"rowNum\", row_number().over(w))\n",
    "#to_join_1.show()"
   ]
  },
  {
   "cell_type": "code",
   "execution_count": 84,
   "metadata": {
    "collapsed": true
   },
   "outputs": [],
   "source": [
    "#joined = filter_data.join(Q_data)\n",
    "#joined.show()"
   ]
  },
  {
   "cell_type": "code",
   "execution_count": 85,
   "metadata": {},
   "outputs": [
    {
     "name": "stdout",
     "output_type": "stream",
     "text": [
      "+--------------------+------------------+--------------------+----------+\n",
      "|              Emprob|          Emcalene|                Emth|        id|\n",
      "+--------------------+------------------+--------------------+----------+\n",
      "| 0.08723083138465881|16.425640106201172|   3.036165952682495|8589934592|\n",
      "| 0.25005948543548584| 5.845077991485596| 0.20001855492591858|8589934593|\n",
      "|  0.2125348299741745| 6.004647731781006|  0.1123889684677124|8589934594|\n",
      "|  0.9393510222434998| 5.145385265350342|   3.018554925918579|8589934595|\n",
      "|   0.258521169424057| 4.929872035980225|0.057119257748126984|8589934596|\n",
      "|0.037284255027770996| 19.95355987548828|  3.0526070594787598|8589934597|\n",
      "|0.002832846483215...| 4.668456554412842|  0.0831870511174202|8589934598|\n",
      "|  0.5537107586860657| 6.739112377166748|  3.0720887184143066|8589934599|\n",
      "| 0.48681434988975525| 7.086331367492676|  2.9617953300476074|8589934600|\n",
      "|0.001292113331146...| 5.864682197570801|  0.1454324722290039|8589934601|\n",
      "|  0.9292227625846863|27.946359634399414|   2.979527473449707|8589934602|\n",
      "|  0.9352236390113831|22.427814483642578|   3.040639877319336|8589934603|\n",
      "|0.026606209576129913| 4.715088367462158| 0.18453313410282135|8589934604|\n",
      "|0.005978332832455635| 9.028997421264648| 0.10362038016319275|8589934605|\n",
      "|  0.9350373148918152|12.521042823791504|   3.035053253173828|8589934606|\n",
      "|3.645793913165107...| 8.177665710449219| 0.10435271263122559|8589934607|\n",
      "| 0.35807880759239197| 7.160803318023682|   2.972933053970337|8589934608|\n",
      "|  0.7335408329963684|10.717334747314453|   3.068476438522339|8589934609|\n",
      "|  0.4391336143016815| 4.129190921783447|  3.0285520553588867|8589934610|\n",
      "| 0.06654060631990433| 6.057034015655518| 0.09108352661132812|8589934611|\n",
      "+--------------------+------------------+--------------------+----------+\n",
      "only showing top 20 rows\n",
      "\n"
     ]
    }
   ],
   "source": [
    "from pyspark.sql.functions import monotonically_increasing_id\n",
    "\n",
    "# This will return a new DF with all the columns + id\n",
    "ids = monotonically_increasing_id()\n",
    "filter_ids = filter_data.withColumn(\"id\", ids)\n",
    "filter_ids.show()"
   ]
  },
  {
   "cell_type": "code",
   "execution_count": 86,
   "metadata": {},
   "outputs": [
    {
     "name": "stdout",
     "output_type": "stream",
     "text": [
      "+------------------+------------------+----------+\n",
      "|            Q2Calc|              EmQ2|        id|\n",
      "+------------------+------------------+----------+\n",
      "| 5.015958501975095| 6.209185600280762|8589934592|\n",
      "| 636.5492115482391| 696.8456420898438|8589934593|\n",
      "| 658.4276693975863|  725.750244140625|8589934594|\n",
      "| 2.139337254112838| 2.297110080718994|8589934595|\n",
      "| 541.8437273875365|  562.731201171875|8589934596|\n",
      "| 4.342160721026197| 4.466527938842773|8589934597|\n",
      "| 512.6423149391454| 540.8382568359375|8589934598|\n",
      "|0.8949099591668996|0.9930397868156433|8589934599|\n",
      "| 6.282757892117972|6.8785529136657715|8589934600|\n",
      "| 641.7099066150637| 684.3646240234375|8589934601|\n",
      "|20.141258127207557|20.308908462524414|8589934602|\n",
      "| 6.280400072171342| 6.680352210998535|8589934603|\n",
      "| 514.2568237252826|    595.4931640625|8589934604|\n",
      "| 990.5260859626181|  974.857177734375|8589934605|\n",
      "| 3.904656723264059|   4.0141921043396|8589934606|\n",
      "| 897.0965581679836| 938.6382446289062|8589934607|\n",
      "| 5.588391556624824| 6.169318675994873|8589934608|\n",
      "|1.5749015365931887|1.6244956254959106|8589934609|\n",
      "|1.4494526920576092|1.5254446268081665|8589934610|\n",
      "| 664.8928103030667|  717.348388671875|8589934611|\n",
      "+------------------+------------------+----------+\n",
      "only showing top 20 rows\n",
      "\n"
     ]
    }
   ],
   "source": [
    "Q_ids = Q_data.withColumn(\"id\",ids)\n",
    "Q_ids.show()"
   ]
  },
  {
   "cell_type": "code",
   "execution_count": 87,
   "metadata": {},
   "outputs": [
    {
     "name": "stdout",
     "output_type": "stream",
     "text": [
      "+----------+--------------------+------------------+-------------------+------------------+------------------+\n",
      "|        id|              Emprob|          Emcalene|               Emth|            Q2Calc|              EmQ2|\n",
      "+----------+--------------------+------------------+-------------------+------------------+------------------+\n",
      "|8589934658|3.699115950439591E-6| 12.10326099395752|0.12402278184890747|1326.2456447647444|    1369.306640625|\n",
      "|8589934965|4.472845466807484...| 17.06633949279785|0.09839095175266266|1872.7575829919015| 1982.935791015625|\n",
      "|8589935171|   0.287142276763916|12.557580947875977| 0.0989340990781784|1377.9565515413144|  1430.29833984375|\n",
      "|8589935183| 0.03693525120615959|15.311760902404785|0.05346377193927765|1683.0904002160607|1816.7086181640625|\n",
      "|8589935298|0.005792902782559395|26.222532272338867| 3.0476508140563965| 6.359251912207705|  6.52403450012207|\n",
      "|8589935317|  0.3889226019382477|13.107640266418457| 3.0347392559051514| 4.111692449248533| 4.250741004943848|\n",
      "|8589935768|0.001781670493073...|   5.4628586769104|0.11127635091543198| 599.0561784128788| 620.4283447265625|\n",
      "|8589935770| 0.06065385043621063| 6.259784698486328|0.08452250063419342| 687.3472423643494|    748.8271484375|\n",
      "|8589935936|6.265192059800029E-4| 7.216061115264893|0.13774296641349792| 790.0076130542456| 840.9087524414062|\n",
      "|8589936112|6.417629192583263E-4| 7.528569221496582| 2.9712469577789307| 5.993176014865484|               0.0|\n",
      "|8589936348| 0.02014465443789959| 9.319028854370117|0.09454508125782013|1022.8041112204482|1089.4437255859375|\n",
      "|8589936424| 0.10885452479124069| 6.319477558135986|0.07140995562076569| 694.2567086333872| 729.7230834960938|\n",
      "|8589936566|  0.8404654860496521| 6.059489727020264| 0.2553502023220062| 655.7374939613604| 730.8453979492188|\n",
      "|8589936761|0.009477542713284492|  27.7097110748291|  2.833681344985962| 71.67735807869285| 71.27335357666016|\n",
      "|8589936870|  0.9318651556968689|25.882692337036133| 3.0568528175354004| 5.108077571764755| 5.236882209777832|\n",
      "|8589936972| 0.16377700865268707| 4.606903553009033|0.08795245736837387| 505.7799960393263|    554.6396484375|\n",
      "|8589937263|0.038708798587322235|      11.076171875| 2.9943435192108154|  6.59239209981217| 7.023458003997803|\n",
      "|8589937582| 0.06977614015340805| 9.888772964477539|0.11907742917537689|1083.9136070960956|1026.9559326171875|\n",
      "|8589937853| 8.34643799407786E-7|  4.06490421295166| 2.9731411933898926|3.1645019606890608|3.5682313442230225|\n",
      "|8589937874|  0.4737499952316284| 6.009882926940918|  3.048354387283325|1.4357288866914035|1.4992427825927734|\n",
      "+----------+--------------------+------------------+-------------------+------------------+------------------+\n",
      "only showing top 20 rows\n",
      "\n"
     ]
    }
   ],
   "source": [
    "joined = filter_ids.join(Q_ids, \"id\", \"outer\")\n",
    "joined.show()"
   ]
  },
  {
   "cell_type": "code",
   "execution_count": 88,
   "metadata": {},
   "outputs": [
    {
     "name": "stdout",
     "output_type": "stream",
     "text": [
      "+-------+--------------------+\n",
      "|summary|              Emprob|\n",
      "+-------+--------------------+\n",
      "|  count|               57221|\n",
      "|   mean|   0.266209054781405|\n",
      "| stddev|  0.3650102337103936|\n",
      "|    min|2.585945530550872...|\n",
      "|    max|  0.9993994832038879|\n",
      "+-------+--------------------+\n",
      "\n"
     ]
    }
   ],
   "source": [
    "# just checking to make sure things didn't get screwed up\n",
    "# output from show sometimes looks wrong because of processes distribution, but is not\n",
    "\n",
    "filter_data.describe([\"Emprob\"]).show()"
   ]
  },
  {
   "cell_type": "code",
   "execution_count": 89,
   "metadata": {},
   "outputs": [
    {
     "name": "stdout",
     "output_type": "stream",
     "text": [
      "+-------+--------------------+\n",
      "|summary|              Emprob|\n",
      "+-------+--------------------+\n",
      "|  count|               57221|\n",
      "|   mean|  0.2662090547814042|\n",
      "| stddev| 0.36501023371039487|\n",
      "|    min|2.585945530550872...|\n",
      "|    max|  0.9993994832038879|\n",
      "+-------+--------------------+\n",
      "\n"
     ]
    }
   ],
   "source": [
    "joined.describe([\"Emprob\"]).show()"
   ]
  },
  {
   "cell_type": "markdown",
   "metadata": {},
   "source": [
    "## Choosing breakpoint for Emprob"
   ]
  },
  {
   "cell_type": "code",
   "execution_count": 90,
   "metadata": {},
   "outputs": [
    {
     "data": {
      "text/plain": [
       "<matplotlib.axes._subplots.AxesSubplot at 0x7fafdbc4aa90>"
      ]
     },
     "execution_count": 90,
     "metadata": {},
     "output_type": "execute_result"
    },
    {
     "data": {
      "image/png": "[encoded data removed]",
      "text/plain": [
       "<matplotlib.figure.Figure at 0x7fafdbbd1cd0>"
      ]
     },
     "metadata": {},
     "output_type": "display_data"
    }
   ],
   "source": [
    "emprob_rdd = joined.select(\"Emprob\").rdd\n",
    "empty = hist.Bin(100, 0.7, 0.93, lambda x: x)\n",
    "filled = emprob_rdd.flatMap(lambda row: row).aggregate(empty, hist.increment, hist.combine)\n",
    "%matplotlib inline\n",
    "filled.plot.matplotlib(name=\"Emprob Histogram\")"
   ]
  },
  {
   "cell_type": "code",
   "execution_count": 91,
   "metadata": {
    "collapsed": true
   },
   "outputs": [],
   "source": [
    "#histogram4 = filled.plot.root(\"Emprob Statistics\", \"Emprob\")\n",
    "#f = ROOT.TCanvas(\"f\")\n",
    "#histogram4.Draw()\n",
    "#f.Draw()"
   ]
  },
  {
   "cell_type": "markdown",
   "metadata": {},
   "source": [
    "It appears after messing with the range of the histogram and looking at several plots that a decent cut-off would be to filter out data where Emprob < 0.8."
   ]
  },
  {
   "cell_type": "code",
   "execution_count": 92,
   "metadata": {},
   "outputs": [
    {
     "name": "stdout",
     "output_type": "stream",
     "text": [
      "+----------+------------------+------------------+-------------------+------------------+------------------+\n",
      "|        id|            Emprob|          Emcalene|               Emth|            Q2Calc|              EmQ2|\n",
      "+----------+------------------+------------------+-------------------+------------------+------------------+\n",
      "|8589936566|0.8404654860496521| 6.059489727020264| 0.2553502023220062| 655.7374939613604| 730.8453979492188|\n",
      "|8589936870|0.9318651556968689|25.882692337036133| 3.0568528175354004| 5.108077571764755| 5.236882209777832|\n",
      "|8589938411|0.9447953104972839|  15.4429292678833|  3.022813320159912| 5.984577271398362| 6.048979759216309|\n",
      "|8589939171|0.9331635236740112|24.366796493530273| 3.0588903427124023| 4.580563093398144| 4.599436283111572|\n",
      "|8589939696|0.9307946562767029|15.051135063171387| 3.0237231254577637| 5.743837779056269| 5.911618709564209|\n",
      "|8589939974|0.9809718132019043|11.067791938781738| 3.0045416355133057| 5.707925906692757| 6.160516262054443|\n",
      "|8589940204|0.9359803199768066|11.415277481079102|  3.013258218765259|5.1630868451679355|  5.56954288482666|\n",
      "|8589943848|0.9350497722625732|12.543939590454102| 3.0317466259002686| 4.158135408946462| 4.270406246185303|\n",
      "|8589944723|0.9389079213142395|16.127826690673828|  2.909132957458496|23.858729265587364|25.275869369506836|\n",
      "|8589945879|0.8818516731262207| 7.450281143188477|  3.075248956680298|0.9014577796344447|1.3903342485427856|\n",
      "|8589947035|0.8680585026741028|19.456140518188477| 3.0239086151123047| 7.401559343890098|7.7554826736450195|\n",
      "|8589947318|0.9352843165397644|15.961981773376465| 3.0439326763153076| 4.183189532885428| 4.636017799377441|\n",
      "|8589947438|0.9350373148918152|21.889257431030273|  2.909498929977417| 32.28048933701937| 33.96628189086914|\n",
      "|8589948097|0.8447304964065552| 5.812986850738525|0.19410686194896698| 633.4244276874455|     728.041015625|\n",
      "|8589949711|0.9119743704795837|23.852394104003906|  3.030992269515991|  8.01558434492577| 8.119994163513184|\n",
      "|8589950130|0.9006012082099915| 24.31024742126465| 3.0670013427734375| 3.717895501518887|3.8389153480529785|\n",
      "|8589951005|0.9229735136032104|24.698040008544922|  2.976621627807617|18.442736028542555|19.509523391723633|\n",
      "|8589955092|0.9356826543807983| 4.497414588928223| 2.9027552604675293| 7.021579454434956| 8.015059471130371|\n",
      "|8589956677|0.9353881478309631| 5.674203872680664| 3.0259439945220947| 2.084657609991751| 2.135812520980835|\n",
      "|8589957202| 0.935229480266571| 23.73061180114746| 3.0512495040893555| 5.322757414053149| 5.457918167114258|\n",
      "+----------+------------------+------------------+-------------------+------------------+------------------+\n",
      "only showing top 20 rows\n",
      "\n"
     ]
    }
   ],
   "source": [
    "filter_joined = joined.filter(joined.Emprob>=0.8)\n",
    "filter_joined.show()"
   ]
  },
  {
   "cell_type": "code",
   "execution_count": 93,
   "metadata": {},
   "outputs": [
    {
     "data": {
      "text/plain": [
       "11507"
      ]
     },
     "execution_count": 93,
     "metadata": {},
     "output_type": "execute_result"
    }
   ],
   "source": [
    "filter_joined.count()"
   ]
  },
  {
   "cell_type": "markdown",
   "metadata": {},
   "source": [
    "## Creating Scatterplot of Sample"
   ]
  },
  {
   "cell_type": "code",
   "execution_count": 94,
   "metadata": {},
   "outputs": [
    {
     "name": "stdout",
     "output_type": "stream",
     "text": [
      "[Row(Q2Calc=655.7374939613604, EmQ2=730.8453979492188), Row(Q2Calc=5.743837779056269, EmQ2=5.911618709564209), Row(Q2Calc=5.1630868451679355, EmQ2=5.56954288482666), Row(Q2Calc=4.183189532885428, EmQ2=4.636017799377441), Row(Q2Calc=32.28048933701937, EmQ2=33.96628189086914), Row(Q2Calc=18.442736028542555, EmQ2=19.509523391723633), Row(Q2Calc=5.471754264802878, EmQ2=6.188292503356934), Row(Q2Calc=2.0611288578229385, EmQ2=2.1257355213165283), Row(Q2Calc=2.5449711902523844, EmQ2=2.617870330810547), Row(Q2Calc=6.559674275578638, EmQ2=6.661275863647461)]\n"
     ]
    }
   ],
   "source": [
    "filter_sample = filter_joined.select(\"Q2Calc\",\"EmQ2\").sample(False, 0.4, 72).collect()\n",
    "print filter_sample[0:10]"
   ]
  },
  {
   "cell_type": "code",
   "execution_count": 95,
   "metadata": {},
   "outputs": [
    {
     "data": {
      "image/png": "[encoded data removed]",
      "text/plain": [
       "<matplotlib.figure.Figure at 0x7fafea1543d0>"
      ]
     },
     "metadata": {},
     "output_type": "display_data"
    }
   ],
   "source": [
    "plt.gcf().clear()\n",
    "for row in filter_sample:\n",
    "    x = row[0]\n",
    "    y = row[1]\n",
    "    plt.scatter(x,y)\n",
    "\n",
    "plt.title('Scatterplot CalcQ2 vs EmQ2el')\n",
    "plt.xlabel('Calculated')\n",
    "plt.ylabel('EmQ2el')\n",
    "plt.xlim([0,1000])\n",
    "plt.ylim([0,1000])\n",
    "plt.show()"
   ]
  },
  {
   "cell_type": "markdown",
   "metadata": {},
   "source": [
    "## Outlier Analysis"
   ]
  },
  {
   "cell_type": "code",
   "execution_count": 96,
   "metadata": {},
   "outputs": [
    {
     "name": "stdout",
     "output_type": "stream",
     "text": [
      "+----------+------------------+------------------+--------------------+------------------+----+\n",
      "|        id|            Emprob|          Emcalene|                Emth|            Q2Calc|EmQ2|\n",
      "+----------+------------------+------------------+--------------------+------------------+----+\n",
      "|8589958405|0.9245891571044922|22.158838272094727|  0.1400543451309204|2425.5388472099094| 0.0|\n",
      "|8589977175| 0.991905689239502| 4.223057746887207|0.055995743721723557| 464.1723061546939| 0.0|\n",
      "|8589979751|0.9400754570960999| 4.423179626464844|  0.1598960906267166|483.44650384914735| 0.0|\n",
      "+----------+------------------+------------------+--------------------+------------------+----+\n",
      "\n"
     ]
    }
   ],
   "source": [
    "filter_joined.filter((filter_joined.Q2Calc > 400) & (filter_joined.EmQ2 < 100)).show()"
   ]
  },
  {
   "cell_type": "code",
   "execution_count": 97,
   "metadata": {},
   "outputs": [
    {
     "name": "stdout",
     "output_type": "stream",
     "text": [
      "+----------+------------------+------------------+--------------------+------------------+----+\n",
      "|        id|            Emprob|          Emcalene|                Emth|            Q2Calc|EmQ2|\n",
      "+----------+------------------+------------------+--------------------+------------------+----+\n",
      "|8589958405|0.9245891571044922|22.158838272094727|  0.1400543451309204|2425.5388472099094| 0.0|\n",
      "|8589977175| 0.991905689239502| 4.223057746887207|0.055995743721723557| 464.1723061546939| 0.0|\n",
      "|8589979751|0.9400754570960999| 4.423179626464844|  0.1598960906267166|483.44650384914735| 0.0|\n",
      "+----------+------------------+------------------+--------------------+------------------+----+\n",
      "\n"
     ]
    }
   ],
   "source": [
    "filter_joined.filter((filter_joined.Q2Calc > 100) & (filter_joined.EmQ2 < 10)).show()"
   ]
  },
  {
   "cell_type": "code",
   "execution_count": 98,
   "metadata": {},
   "outputs": [
    {
     "name": "stdout",
     "output_type": "stream",
     "text": [
      "+-------+------------------+\n",
      "|summary|            Q2Calc|\n",
      "+-------+------------------+\n",
      "|  count|             11507|\n",
      "|   mean| 61.34358667077876|\n",
      "| stddev|327.94960238621445|\n",
      "|    min| 0.174485489970516|\n",
      "|    max|  26412.7052325698|\n",
      "+-------+------------------+\n",
      "\n"
     ]
    }
   ],
   "source": [
    "filter_joined.describe([\"Q2Calc\"]).show()"
   ]
  },
  {
   "cell_type": "code",
   "execution_count": 99,
   "metadata": {},
   "outputs": [
    {
     "name": "stdout",
     "output_type": "stream",
     "text": [
      "+-------+-----------------+\n",
      "|summary|             EmQ2|\n",
      "+-------+-----------------+\n",
      "|  count|            11507|\n",
      "|   mean|67.82115276649684|\n",
      "| stddev|538.4312967895786|\n",
      "|    min|              0.0|\n",
      "|    max|    52075.1015625|\n",
      "+-------+-----------------+\n",
      "\n"
     ]
    }
   ],
   "source": [
    "filter_joined.describe([\"EmQ2\"]).show()"
   ]
  },
  {
   "cell_type": "code",
   "execution_count": 100,
   "metadata": {},
   "outputs": [
    {
     "name": "stdout",
     "output_type": "stream",
     "text": [
      "+----------+------------------+------------------+-------------------+-----------------+----------------+\n",
      "|        id|            Emprob|          Emcalene|               Emth|           Q2Calc|            EmQ2|\n",
      "+----------+------------------+------------------+-------------------+-----------------+----------------+\n",
      "|8589972413|0.8390766978263855|240.25807189941406|0.04872453585267067| 26412.7052325698|   52075.1015625|\n",
      "|8589963125|0.8712858557701111| 43.58793258666992|0.05864917114377022|  4790.5506771364| 4858.6201171875|\n",
      "|8589959579|0.9405015110969543| 25.22752571105957|0.15457183122634888|2758.485250386904|4968.45849609375|\n",
      "+----------+------------------+------------------+-------------------+-----------------+----------------+\n",
      "\n"
     ]
    }
   ],
   "source": [
    "filter_joined.filter(filter_joined.EmQ2 > 4000).show()"
   ]
  },
  {
   "cell_type": "code",
   "execution_count": 101,
   "metadata": {},
   "outputs": [
    {
     "name": "stdout",
     "output_type": "stream",
     "text": [
      "+----------+------------------+------------------+--------------------+------------------+-----------------+\n",
      "|        id|            Emprob|          Emcalene|                Emth|            Q2Calc|             EmQ2|\n",
      "+----------+------------------+------------------+--------------------+------------------+-----------------+\n",
      "|8589972413|0.8390766978263855|240.25807189941406| 0.04872453585267067|  26412.7052325698|    52075.1015625|\n",
      "|8589970917|0.9804767966270447| 27.11355209350586| 0.10679700970649719| 2973.994535219642| 3059.67919921875|\n",
      "|8589967821|0.9894064664840698| 34.11053466796875| 0.05696582421660423| 3749.115599120347| 3881.01904296875|\n",
      "|8589974355|0.8724992275238037| 23.03304100036621| 0.18084946274757385|2512.9743153928366| 3545.06689453125|\n",
      "|8589948178|0.8387942314147949|25.281414031982422|0.061714041978120804|2778.3084810212094|2810.093505859375|\n",
      "|8589963125|0.8712858557701111| 43.58793258666992| 0.05864917114377022|   4790.5506771364|  4858.6201171875|\n",
      "|8589959579|0.9405015110969543| 25.22752571105957| 0.15457183122634888| 2758.485250386904| 4968.45849609375|\n",
      "|8589971404|0.9827548265457153|   24.976806640625|0.058186180889606476|2745.1239241490207| 2804.74462890625|\n",
      "+----------+------------------+------------------+--------------------+------------------+-----------------+\n",
      "\n"
     ]
    }
   ],
   "source": [
    "filter_joined.filter(filter_joined.EmQ2 > 2500).show()"
   ]
  },
  {
   "cell_type": "markdown",
   "metadata": {},
   "source": [
    "Think that should at least take out entry id 60129579965, which has Emprob = 0.839 and insanely high $Q^2$ values.  Q2Calc = 26,412 and EmQ2 = 52,075."
   ]
  },
  {
   "cell_type": "markdown",
   "metadata": {},
   "source": [
    "id 60129581907 and id 60129567131 are also concerning, with their large differences between Q2Calc and EmQ2"
   ]
  },
  {
   "cell_type": "code",
   "execution_count": 102,
   "metadata": {},
   "outputs": [
    {
     "name": "stdout",
     "output_type": "stream",
     "text": [
      "11507\n",
      "11506\n",
      "+----------+------------------+-----------------+-------------------+-----------------+----------------+\n",
      "|        id|            Emprob|         Emcalene|               Emth|           Q2Calc|            EmQ2|\n",
      "+----------+------------------+-----------------+-------------------+-----------------+----------------+\n",
      "|8589963125|0.8712858557701111|43.58793258666992|0.05864917114377022|  4790.5506771364| 4858.6201171875|\n",
      "|8589959579|0.9405015110969543|25.22752571105957|0.15457183122634888|2758.485250386904|4968.45849609375|\n",
      "+----------+------------------+-----------------+-------------------+-----------------+----------------+\n",
      "\n"
     ]
    }
   ],
   "source": [
    "print filter_joined.count()\n",
    "filter_joined = filter_joined.filter(filter_joined.EmQ2 < 5000)\n",
    "# Check to make sure took out correct item and only that item\n",
    "print filter_joined.count()\n",
    "filter_joined.filter(filter_joined.EmQ2 > 4000).show()"
   ]
  },
  {
   "cell_type": "markdown",
   "metadata": {},
   "source": [
    "Need to know reason for EmQ2 = 0 on some entries before I can get rid of those observations."
   ]
  },
  {
   "cell_type": "code",
   "execution_count": null,
   "metadata": {
    "collapsed": true
   },
   "outputs": [],
   "source": []
  },
  {
   "cell_type": "markdown",
   "metadata": {},
   "source": [
    "# Runtime Calculation (with t2.medium)"
   ]
  },
  {
   "cell_type": "code",
   "execution_count": 103,
   "metadata": {},
   "outputs": [
    {
     "name": "stdout",
     "output_type": "stream",
     "text": [
      "--- 108.351809025 seconds ---\n"
     ]
    }
   ],
   "source": [
    "print \"--- %s seconds ---\" % (time.time() - start_time)"
   ]
  },
  {
   "cell_type": "code",
   "execution_count": null,
   "metadata": {
    "collapsed": true
   },
   "outputs": [],
   "source": []
  }
 ],
 "metadata": {
  "kernelspec": {
   "display_name": "Python 2",
   "language": "python",
   "name": "python2"
  },
  "language_info": {
   "codemirror_mode": {
    "name": "ipython",
    "version": 2
   },
   "file_extension": ".py",
   "mimetype": "text/x-python",
   "name": "python",
   "nbconvert_exporter": "python",
   "pygments_lexer": "ipython2",
   "version": "2.7.13"
  }
 },
 "nbformat": 4,
 "nbformat_minor": 2
}

{
 "cells": [
  {
   "cell_type": "markdown",
   "metadata": {},
   "source": [
    "### Note:  to start Jupyter Notebook with Spark, use the following command from the hadoop directory in terminal:\n",
    "\n",
    "pyspark --packages org.diana-hep:spark-root_2.11:0.1.11,org.diana-hep:histogrammar-bokeh_2.11:1.0.3,org.diana-hep:histogrammar-sparksql_2.11:1.0.3"
   ]
  },
  {
   "cell_type": "markdown",
   "metadata": {},
   "source": [
    "# Root file to Spark Dataframe"
   ]
  },
  {
   "cell_type": "markdown",
   "metadata": {},
   "source": [
    "Below is the code to read in the root file into a Spark DataFrame.\n",
    "\n",
    "The show() method can show some of the data in table format\n",
    "\n",
    "The printSchema() can show the tree structure of the data\n",
    "\n",
    "count() will display the number of rows"
   ]
  },
  {
   "cell_type": "code",
   "execution_count": 1,
   "metadata": {
    "collapsed": true
   },
   "outputs": [],
   "source": [
    "df = sqlContext.read.format(\"org.dianahep.sparkroot\").load(\"file:/home/ethan/Documents/JL_Summer_2017/Root/data_05_53591_53591_03.root\")"
   ]
  },
  {
   "cell_type": "code",
   "execution_count": 2,
   "metadata": {
    "collapsed": true
   },
   "outputs": [],
   "source": [
    "#df.show()"
   ]
  },
  {
   "cell_type": "code",
   "execution_count": 3,
   "metadata": {},
   "outputs": [],
   "source": [
    "#df.printSchema()"
   ]
  },
  {
   "cell_type": "code",
   "execution_count": 4,
   "metadata": {},
   "outputs": [
    {
     "data": {
      "text/plain": [
       "50000"
      ]
     },
     "execution_count": 4,
     "metadata": {},
     "output_type": "execute_result"
    }
   ],
   "source": [
    "df.count()"
   ]
  },
  {
   "cell_type": "markdown",
   "metadata": {},
   "source": [
    "# Importing Packages"
   ]
  },
  {
   "cell_type": "code",
   "execution_count": 5,
   "metadata": {},
   "outputs": [
    {
     "data": {
      "application/javascript": [
       "\n",
       "require(['notebook'],\n",
       "  function() {\n",
       "    IPython.CodeCell.config_defaults.highlight_modes['magic_text/x-c++src'] = {'reg':[/^%%cpp/]};\n",
       "    console.log(\"JupyROOT - %%cpp magic configured\");\n",
       "  }\n",
       ");\n"
      ]
     },
     "metadata": {},
     "output_type": "display_data"
    },
    {
     "name": "stdout",
     "output_type": "stream",
     "text": [
      "Welcome to JupyROOT 6.08/06\n"
     ]
    }
   ],
   "source": [
    "from math import *\n",
    "import numpy as np\n",
    "from pyspark.sql import Row\n",
    "import matplotlib.pyplot as plt\n",
    "import histogrammar as hist\n",
    "import ROOT"
   ]
  },
  {
   "cell_type": "markdown",
   "metadata": {},
   "source": [
    "# Selecting a subset of the data"
   ]
  },
  {
   "cell_type": "code",
   "execution_count": 6,
   "metadata": {},
   "outputs": [
    {
     "name": "stdout",
     "output_type": "stream",
     "text": [
      "root\n",
      " |-- Emprob: array (nullable = true)\n",
      " |    |-- element: float (containsNull = true)\n",
      " |-- Trk_charge: array (nullable = true)\n",
      " |    |-- element: float (containsNull = true)\n",
      " |-- Emcalene: array (nullable = true)\n",
      " |    |-- element: float (containsNull = true)\n",
      " |-- Emth: array (nullable = true)\n",
      " |    |-- element: float (containsNull = true)\n",
      "\n"
     ]
    }
   ],
   "source": [
    "selection = df.select(\"Emprob\",\"Trk_charge\",\"Emcalene\",\"Emth\")\n",
    "trk_charge = df.select(\"Trk_charge\")\n",
    "#emcalene = df.select(\"Emcalene\")\n",
    "#theta = df.select(\"Emth\")\n",
    "selection.printSchema()"
   ]
  },
  {
   "cell_type": "markdown",
   "metadata": {},
   "source": [
    "Somehow it appears that the columns are getting mixed up...at least in the section.show() command.\n",
    "\n",
    "However, when calling to show the specific columns, it appears that they are referenced correctly."
   ]
  },
  {
   "cell_type": "code",
   "execution_count": 7,
   "metadata": {},
   "outputs": [
    {
     "name": "stdout",
     "output_type": "stream",
     "text": [
      "+--------------------+--------------------+--------------------+--------------------+\n",
      "|              Emprob|          Trk_charge|            Emcalene|                Emth|\n",
      "+--------------------+--------------------+--------------------+--------------------+\n",
      "|[0.08723083, 0.25...|[16.42564, 5.8450...|[3.036166, 0.2000...|[1.0, 1.0, 1.0, 1...|\n",
      "|[0.939351, 0.2585...|[5.1453853, 4.929...|[3.018555, 0.0571...|[1.0, 1.0, -1.0, ...|\n",
      "|[0.037284255, 0.0...|[19.95356, 4.6684...|[3.052607, 0.0831...|[-1.0, 1.0, 1.0, ...|\n",
      "|        [0.55371076]|         [6.7391124]|         [3.0720887]|[1.0, -1.0, 1.0, ...|\n",
      "|                  []|                  []|                  []|[-1.0, 1.0, 1.0, ...|\n",
      "|[0.48681435, 0.00...|[7.0863314, 5.864...|[2.9617953, 0.145...|[-1.0, 1.0, 1.0, ...|\n",
      "|        [0.92922276]|          [27.94636]|         [2.9795275]|[1.0, -1.0, -1.0,...|\n",
      "|                  []|                  []|                  []|[1.0, 1.0, 1.0, -...|\n",
      "|[0.93522364, 0.02...|[22.427814, 4.715...|[3.0406399, 0.184...|[1.0, -1.0, -1.0,...|\n",
      "|         [0.9350373]|         [12.521043]|         [3.0350533]|[-1.0, 1.0, 1.0, ...|\n",
      "|       [3.645794E-5]|          [8.177666]|        [0.10435271]|[1.0, -1.0, -1.0,...|\n",
      "|         [0.3580788]|         [7.1608033]|          [2.972933]|[-1.0, 1.0, 1.0, ...|\n",
      "|[0.73354083, 0.43...|[10.717335, 4.129...|[3.0684764, 3.028...|               [1.0]|\n",
      "|        [0.06654061]|          [6.057034]|        [0.09108353]|[-1.0, 1.0, 1.0, ...|\n",
      "|                  []|                  []|                  []|[1.0, 1.0, 1.0, -...|\n",
      "|        [0.46746105]|         [21.793573]|         [3.0596297]|[-1.0, 1.0, 1.0, ...|\n",
      "|         [0.0053049]|         [4.6051254]|         [3.0239851]|    [1.0, 1.0, -1.0]|\n",
      "|                  []|                  []|                  []|[1.0, 1.0, -1.0, ...|\n",
      "|                  []|                  []|                  []|[1.0, 1.0, -1.0, ...|\n",
      "|        [0.93110394]|         [27.388573]|         [3.0090332]|                  []|\n",
      "+--------------------+--------------------+--------------------+--------------------+\n",
      "only showing top 20 rows\n",
      "\n",
      "+--------------------+\n",
      "|          Trk_charge|\n",
      "+--------------------+\n",
      "|[1.0, 1.0, 1.0, 1...|\n",
      "|[1.0, 1.0, -1.0, ...|\n",
      "|[-1.0, 1.0, 1.0, ...|\n",
      "|[1.0, -1.0, 1.0, ...|\n",
      "|[-1.0, 1.0, 1.0, ...|\n",
      "|[-1.0, 1.0, 1.0, ...|\n",
      "|[1.0, -1.0, -1.0,...|\n",
      "|[1.0, 1.0, 1.0, -...|\n",
      "|[1.0, -1.0, -1.0,...|\n",
      "|[-1.0, 1.0, 1.0, ...|\n",
      "|[1.0, -1.0, -1.0,...|\n",
      "|[-1.0, 1.0, 1.0, ...|\n",
      "|               [1.0]|\n",
      "|[-1.0, 1.0, 1.0, ...|\n",
      "|[1.0, 1.0, 1.0, -...|\n",
      "|[-1.0, 1.0, 1.0, ...|\n",
      "|    [1.0, 1.0, -1.0]|\n",
      "|[1.0, 1.0, -1.0, ...|\n",
      "|[1.0, 1.0, -1.0, ...|\n",
      "|                  []|\n",
      "+--------------------+\n",
      "only showing top 20 rows\n",
      "\n"
     ]
    }
   ],
   "source": [
    "selection.show()\n",
    "#emprob.show()\n",
    "trk_charge.show()\n",
    "#emcalene.show()\n",
    "#theta.show()"
   ]
  },
  {
   "cell_type": "code",
   "execution_count": 8,
   "metadata": {},
   "outputs": [
    {
     "data": {
      "text/plain": [
       "DataFrame[Emprob: array<float>, Trk_charge: array<float>, Emcalene: array<float>, Emth: array<float>]"
      ]
     },
     "execution_count": 8,
     "metadata": {},
     "output_type": "execute_result"
    }
   ],
   "source": [
    "selection"
   ]
  },
  {
   "cell_type": "code",
   "execution_count": 9,
   "metadata": {},
   "outputs": [
    {
     "name": "stdout",
     "output_type": "stream",
     "text": [
      "+--------------------+\n",
      "|          Trk_Charge|\n",
      "+--------------------+\n",
      "|[1.0, 1.0, 1.0, 1...|\n",
      "|[1.0, 1.0, -1.0, ...|\n",
      "|[-1.0, 1.0, 1.0, ...|\n",
      "|[1.0, -1.0, 1.0, ...|\n",
      "|[-1.0, 1.0, 1.0, ...|\n",
      "|[-1.0, 1.0, 1.0, ...|\n",
      "|[1.0, -1.0, -1.0,...|\n",
      "|[1.0, 1.0, 1.0, -...|\n",
      "|[1.0, -1.0, -1.0,...|\n",
      "|[-1.0, 1.0, 1.0, ...|\n",
      "|[1.0, -1.0, -1.0,...|\n",
      "|[-1.0, 1.0, 1.0, ...|\n",
      "|               [1.0]|\n",
      "|[-1.0, 1.0, 1.0, ...|\n",
      "|[1.0, 1.0, 1.0, -...|\n",
      "|[-1.0, 1.0, 1.0, ...|\n",
      "|    [1.0, 1.0, -1.0]|\n",
      "|[1.0, 1.0, -1.0, ...|\n",
      "|[1.0, 1.0, -1.0, ...|\n",
      "|                  []|\n",
      "+--------------------+\n",
      "only showing top 20 rows\n",
      "\n",
      "+--------------------+\n",
      "|              Emprob|\n",
      "+--------------------+\n",
      "|[0.08723083, 0.25...|\n",
      "|[0.939351, 0.2585...|\n",
      "|[0.037284255, 0.0...|\n",
      "|        [0.55371076]|\n",
      "|                  []|\n",
      "|[0.48681435, 0.00...|\n",
      "|        [0.92922276]|\n",
      "|                  []|\n",
      "|[0.93522364, 0.02...|\n",
      "|         [0.9350373]|\n",
      "|       [3.645794E-5]|\n",
      "|         [0.3580788]|\n",
      "|[0.73354083, 0.43...|\n",
      "|        [0.06654061]|\n",
      "|                  []|\n",
      "|        [0.46746105]|\n",
      "|         [0.0053049]|\n",
      "|                  []|\n",
      "|                  []|\n",
      "|        [0.93110394]|\n",
      "+--------------------+\n",
      "only showing top 20 rows\n",
      "\n",
      "+--------------------+\n",
      "|            Emcalene|\n",
      "+--------------------+\n",
      "|[16.42564, 5.8450...|\n",
      "|[5.1453853, 4.929...|\n",
      "|[19.95356, 4.6684...|\n",
      "|         [6.7391124]|\n",
      "|                  []|\n",
      "|[7.0863314, 5.864...|\n",
      "|          [27.94636]|\n",
      "|                  []|\n",
      "|[22.427814, 4.715...|\n",
      "|         [12.521043]|\n",
      "|          [8.177666]|\n",
      "|         [7.1608033]|\n",
      "|[10.717335, 4.129...|\n",
      "|          [6.057034]|\n",
      "|                  []|\n",
      "|         [21.793573]|\n",
      "|         [4.6051254]|\n",
      "|                  []|\n",
      "|                  []|\n",
      "|         [27.388573]|\n",
      "+--------------------+\n",
      "only showing top 20 rows\n",
      "\n",
      "+--------------------+\n",
      "|                Emth|\n",
      "+--------------------+\n",
      "|[3.036166, 0.2000...|\n",
      "|[3.018555, 0.0571...|\n",
      "|[3.052607, 0.0831...|\n",
      "|         [3.0720887]|\n",
      "|                  []|\n",
      "|[2.9617953, 0.145...|\n",
      "|         [2.9795275]|\n",
      "|                  []|\n",
      "|[3.0406399, 0.184...|\n",
      "|         [3.0350533]|\n",
      "|        [0.10435271]|\n",
      "|          [2.972933]|\n",
      "|[3.0684764, 3.028...|\n",
      "|        [0.09108353]|\n",
      "|                  []|\n",
      "|         [3.0596297]|\n",
      "|         [3.0239851]|\n",
      "|                  []|\n",
      "|                  []|\n",
      "|         [3.0090332]|\n",
      "+--------------------+\n",
      "only showing top 20 rows\n",
      "\n"
     ]
    }
   ],
   "source": [
    "selection.select(\"Trk_Charge\").show()\n",
    "selection.select(\"Emprob\").show()\n",
    "selection.select(\"Emcalene\").show()\n",
    "selection.select(\"Emth\").show()"
   ]
  },
  {
   "cell_type": "markdown",
   "metadata": {},
   "source": [
    "Possible code to reduce the size of one of the selections and create a panda dataframe for analysis:\n",
    "\n",
    "reduced = selection.limit(500)\n",
    "\n",
    "panda_set = reduced.toPandas()\n",
    "\n",
    "print panda_set"
   ]
  },
  {
   "cell_type": "markdown",
   "metadata": {},
   "source": [
    "# Creating some basic Histograms"
   ]
  },
  {
   "cell_type": "code",
   "execution_count": 10,
   "metadata": {},
   "outputs": [
    {
     "data": {
      "text/plain": [
       "<matplotlib.axes._subplots.AxesSubplot at 0x7f3424242350>"
      ]
     },
     "execution_count": 10,
     "metadata": {},
     "output_type": "execute_result"
    },
    {
     "data": {
      "image/png": "[encoded data removed]",
      "text/plain": [
       "<matplotlib.figure.Figure at 0x7f3424559bd0>"
      ]
     },
     "metadata": {},
     "output_type": "display_data"
    }
   ],
   "source": [
    "emcalene_rdd = selection.select(\"Emcalene\").rdd\n",
    "empty = hist.Bin(100, 0, 50, lambda x: x)\n",
    "filled = emcalene_rdd.flatMap(lambda row: row[0]).aggregate(empty, hist.increment, hist.combine)\n",
    "%matplotlib inline\n",
    "filled.plot.matplotlib(name=\"Emcalene Histogram\")"
   ]
  },
  {
   "cell_type": "code",
   "execution_count": 11,
   "metadata": {},
   "outputs": [
    {
     "data": {
      "image/png": "[encoded data removed]",
      "text/plain": [
       "<IPython.core.display.Image object>"
      ]
     },
     "metadata": {},
     "output_type": "display_data"
    }
   ],
   "source": [
    "histogram = filled.plot.root(\"Data Stats\", \"Emcalene\")\n",
    "c = ROOT.TCanvas(\"c\")\n",
    "histogram.Draw()\n",
    "c.Draw()"
   ]
  },
  {
   "cell_type": "code",
   "execution_count": 12,
   "metadata": {},
   "outputs": [
    {
     "data": {
      "text/plain": [
       "<matplotlib.axes._subplots.AxesSubplot at 0x7f34244dc210>"
      ]
     },
     "execution_count": 12,
     "metadata": {},
     "output_type": "execute_result"
    },
    {
     "data": {
      "image/png": "[encoded data removed]",
      "text/plain": [
       "<matplotlib.figure.Figure at 0x7f345820da50>"
      ]
     },
     "metadata": {},
     "output_type": "display_data"
    }
   ],
   "source": [
    "emth_rdd = selection.select(\"Emth\").rdd\n",
    "empty = hist.Bin(100, 0, 4, lambda x: x)\n",
    "filled = emth_rdd.flatMap(lambda row: row[0]).aggregate(empty, hist.increment, hist.combine)\n",
    "%matplotlib inline\n",
    "filled.plot.matplotlib(name=\"Emth Histogram\")"
   ]
  },
  {
   "cell_type": "code",
   "execution_count": 13,
   "metadata": {},
   "outputs": [
    {
     "data": {
      "image/png": "[encoded data removed]",
      "text/plain": [
       "<IPython.core.display.Image object>"
      ]
     },
     "metadata": {},
     "output_type": "display_data"
    }
   ],
   "source": [
    "histogram2 = filled.plot.root(\"Statistics\", \"Emth\")\n",
    "d = ROOT.TCanvas(\"d\")\n",
    "histogram2.Draw()\n",
    "d.Draw()"
   ]
  },
  {
   "cell_type": "code",
   "execution_count": 14,
   "metadata": {},
   "outputs": [
    {
     "data": {
      "text/plain": [
       "[Row(Emth=[3.036165952682495, 0.20001855492591858, 0.1123889684677124]),\n",
       " Row(Emth=[3.018554925918579, 0.057119257748126984]),\n",
       " Row(Emth=[3.0526070594787598, 0.0831870511174202]),\n",
       " Row(Emth=[3.0720887184143066]),\n",
       " Row(Emth=[])]"
      ]
     },
     "execution_count": 14,
     "metadata": {},
     "output_type": "execute_result"
    }
   ],
   "source": [
    "# Do cos(theta) histogram - apply function to RDD\n",
    "emth_rdd.take(5)"
   ]
  },
  {
   "cell_type": "markdown",
   "metadata": {},
   "source": [
    "# Operating on RDD's"
   ]
  },
  {
   "cell_type": "code",
   "execution_count": 15,
   "metadata": {
    "collapsed": true
   },
   "outputs": [],
   "source": [
    "# Define function to use cosine on theta rdd\n",
    "def cos_theta(row):\n",
    "    new_array = []\n",
    "    for array in row:\n",
    "        for item in array:\n",
    "            new_array.append(cos(item))\n",
    "    return new_array"
   ]
  },
  {
   "cell_type": "code",
   "execution_count": 16,
   "metadata": {},
   "outputs": [
    {
     "data": {
      "text/plain": [
       "[3.036165952682495, 0.20001855492591858, 0.1123889684677124]"
      ]
     },
     "execution_count": 16,
     "metadata": {},
     "output_type": "execute_result"
    }
   ],
   "source": [
    "emth_rdd.first()[0]"
   ]
  },
  {
   "cell_type": "code",
   "execution_count": 17,
   "metadata": {},
   "outputs": [
    {
     "data": {
      "text/plain": [
       "3.036165952682495"
      ]
     },
     "execution_count": 17,
     "metadata": {},
     "output_type": "execute_result"
    }
   ],
   "source": [
    "emth_rdd.first()[0][0]"
   ]
  },
  {
   "cell_type": "code",
   "execution_count": 18,
   "metadata": {},
   "outputs": [
    {
     "data": {
      "text/plain": [
       "[[-0.9944477509003727, 0.9800628913778154, 0.9936910049699835],\n",
       " [-0.9924404026175052, 0.9983691386748126],\n",
       " [-0.9960433938987041, 0.9965419521189489],\n",
       " [-0.9975855736993198],\n",
       " []]"
      ]
     },
     "execution_count": 18,
     "metadata": {},
     "output_type": "execute_result"
    }
   ],
   "source": [
    "cos_emth_rdd = emth_rdd.map(cos_theta)\n",
    "cos_emth_rdd.take(5)"
   ]
  },
  {
   "cell_type": "code",
   "execution_count": 19,
   "metadata": {},
   "outputs": [
    {
     "name": "stdout",
     "output_type": "stream",
     "text": [
      "<class 'pyspark.rdd.RDD'>\n",
      "<class 'pyspark.rdd.PipelinedRDD'>\n"
     ]
    }
   ],
   "source": [
    "print type(emth_rdd)\n",
    "print type(cos_emth_rdd)"
   ]
  },
  {
   "cell_type": "code",
   "execution_count": 20,
   "metadata": {},
   "outputs": [
    {
     "data": {
      "text/plain": [
       "<matplotlib.axes._subplots.AxesSubplot at 0x7f34023a9f90>"
      ]
     },
     "execution_count": 20,
     "metadata": {},
     "output_type": "execute_result"
    },
    {
     "data": {
      "image/png": "[encoded data removed]",
      "text/plain": [
       "<matplotlib.figure.Figure at 0x7f34243f6850>"
      ]
     },
     "metadata": {},
     "output_type": "display_data"
    }
   ],
   "source": [
    "empty = hist.Bin(100, 0.85, 1.05, lambda x: x)\n",
    "filled = cos_emth_rdd.flatMap(lambda row: row).aggregate(empty, hist.increment, hist.combine)\n",
    "%matplotlib inline\n",
    "filled.plot.matplotlib(name=\"Cosine of Emth Histogram\")"
   ]
  },
  {
   "cell_type": "code",
   "execution_count": 21,
   "metadata": {},
   "outputs": [
    {
     "data": {
      "image/png": "[encoded data removed]",
      "text/plain": [
       "<IPython.core.display.Image object>"
      ]
     },
     "metadata": {},
     "output_type": "display_data"
    }
   ],
   "source": [
    "histogram3 = filled.plot.root(\"Cosine(Emth) Statistics\", \"Cosine Emth\")\n",
    "e = ROOT.TCanvas(\"e\")\n",
    "histogram3.Draw()\n",
    "e.Draw()"
   ]
  },
  {
   "cell_type": "markdown",
   "metadata": {},
   "source": [
    "# Calculating $Q^2$"
   ]
  },
  {
   "cell_type": "code",
   "execution_count": 22,
   "metadata": {
    "collapsed": true
   },
   "outputs": [],
   "source": [
    "emcalene_rdd = selection.select(\"Emcalene\").rdd\n",
    "\n",
    "def scale_mult(row):\n",
    "    new_array = []\n",
    "    for array in row:\n",
    "        for item in array:\n",
    "            new_array.append(item*4.0*27.5)\n",
    "    return new_array    \n",
    "\n",
    "coefficient_rdd = emcalene_rdd.map(scale_mult)"
   ]
  },
  {
   "cell_type": "code",
   "execution_count": 23,
   "metadata": {
    "collapsed": true
   },
   "outputs": [],
   "source": [
    "def angle_calc(row):\n",
    "    new_array = []\n",
    "    for array in row:\n",
    "        for item in array:\n",
    "            new_array.append((cos(item/2))**2)\n",
    "    return new_array    "
   ]
  },
  {
   "cell_type": "code",
   "execution_count": 24,
   "metadata": {
    "collapsed": true
   },
   "outputs": [],
   "source": [
    "angle_rdd = emth_rdd.map(angle_calc)"
   ]
  },
  {
   "cell_type": "code",
   "execution_count": 25,
   "metadata": {},
   "outputs": [
    {
     "data": {
      "text/plain": [
       "[Row(Emcalene=[16.425640106201172, 5.845077991485596, 6.004647731781006]),\n",
       " Row(Emcalene=[5.145385265350342, 4.929872035980225]),\n",
       " Row(Emcalene=[19.95355987548828, 4.668456554412842]),\n",
       " Row(Emcalene=[6.739112377166748]),\n",
       " Row(Emcalene=[])]"
      ]
     },
     "execution_count": 25,
     "metadata": {},
     "output_type": "execute_result"
    }
   ],
   "source": [
    "emcalene_rdd.take(5)"
   ]
  },
  {
   "cell_type": "code",
   "execution_count": 26,
   "metadata": {},
   "outputs": [
    {
     "data": {
      "text/plain": [
       "[[1806.820411682129, 642.9585790634155, 660.5112504959106],\n",
       " [565.9923791885376, 542.2859239578247],\n",
       " [2194.891586303711, 513.5302209854126],\n",
       " [741.3023614883423],\n",
       " []]"
      ]
     },
     "execution_count": 26,
     "metadata": {},
     "output_type": "execute_result"
    }
   ],
   "source": [
    "coefficient_rdd.take(5)"
   ]
  },
  {
   "cell_type": "code",
   "execution_count": 27,
   "metadata": {},
   "outputs": [
    {
     "data": {
      "text/plain": [
       "[Row(Emth=[3.036165952682495, 0.20001855492591858, 0.1123889684677124]),\n",
       " Row(Emth=[3.018554925918579, 0.057119257748126984]),\n",
       " Row(Emth=[3.0526070594787598, 0.0831870511174202]),\n",
       " Row(Emth=[3.0720887184143066]),\n",
       " Row(Emth=[])]"
      ]
     },
     "execution_count": 27,
     "metadata": {},
     "output_type": "execute_result"
    }
   ],
   "source": [
    "emth_rdd.take(5)"
   ]
  },
  {
   "cell_type": "code",
   "execution_count": 28,
   "metadata": {},
   "outputs": [
    {
     "data": {
      "text/plain": [
       "[[0.0027761245498136118, 0.9900314456889077, 0.9968455024849918],\n",
       " [0.0037797986912474026, 0.9991845693374064],\n",
       " [0.0019783030506479713, 0.9982709760594745],\n",
       " [0.0012072131503401032],\n",
       " []]"
      ]
     },
     "execution_count": 28,
     "metadata": {},
     "output_type": "execute_result"
    }
   ],
   "source": [
    "angle_rdd.take(5)"
   ]
  },
  {
   "cell_type": "code",
   "execution_count": 29,
   "metadata": {
    "collapsed": true
   },
   "outputs": [],
   "source": [
    "#def rdd_mult(row):\n",
    "#    new_array = []\n",
    "#    index = 0\n",
    "#    for item in array:\n",
    "        # This next line cannot get to work - you must use rdd.take(num)[row index][element index]\n",
    "        # no way to keep track of row indexes\n",
    "        #new_array.append(item*angle_rdd_element)\n",
    "#        index += 1\n",
    "#    return new_array"
   ]
  },
  {
   "cell_type": "code",
   "execution_count": 30,
   "metadata": {
    "collapsed": true
   },
   "outputs": [],
   "source": [
    "#q2_rdd = coefficient_rdd\n",
    "#q2_rdd = q2_rdd.map(rdd_mult)"
   ]
  },
  {
   "cell_type": "code",
   "execution_count": 31,
   "metadata": {
    "collapsed": true
   },
   "outputs": [],
   "source": [
    "#q2_rdd.take(5)"
   ]
  },
  {
   "cell_type": "markdown",
   "metadata": {},
   "source": [
    "Possibly use reduceByKey, join, leftOuterJoin, union, functions\n",
    "\n",
    "Then use withColumn function?"
   ]
  },
  {
   "cell_type": "code",
   "execution_count": 32,
   "metadata": {
    "collapsed": true
   },
   "outputs": [],
   "source": [
    "# Creates a list (Bad merging)\n",
    "#operation_rdd = angle_rdd.union(coefficient_rdd).collect()"
   ]
  },
  {
   "cell_type": "markdown",
   "metadata": {},
   "source": [
    "As far as I can tell, there is no way to multiply the elements of two RDD's together to make a third RDD.  Thus, I will go back to the dataframe and redo the operations to create a new column that is the calculation of Q^2.  This new column I will then make into an RDD."
   ]
  },
  {
   "cell_type": "code",
   "execution_count": 33,
   "metadata": {
    "collapsed": true
   },
   "outputs": [],
   "source": [
    "#new_df = selection.withColumn('Q2', 4.0*27.5*selection.Emcalene*(cos(selection.Emth/2))**2)"
   ]
  },
  {
   "cell_type": "markdown",
   "metadata": {},
   "source": [
    "Possibly create new blank columns, then modify then with map.  Maybe can create function that will split the lists and create a column solely of floats - but would be different length then original.\n",
    "\n",
    "Thus, maybe create completely new dataframe with these \"arrays\" split into individual elements."
   ]
  },
  {
   "cell_type": "code",
   "execution_count": 34,
   "metadata": {
    "collapsed": true
   },
   "outputs": [],
   "source": [
    "# Below is how to add a column solely with zeros - may or may not be useful\n",
    "\n",
    "#from pyspark.sql.functions import lit\n",
    "#new_df = selection.withColumn(\"Q2\",lit(0))"
   ]
  },
  {
   "cell_type": "markdown",
   "metadata": {},
   "source": [
    "## Attempting to Split Arrays"
   ]
  },
  {
   "cell_type": "markdown",
   "metadata": {},
   "source": [
    "As stated above, splitting the arrays of the RDD's would create new RDD's with entries of floats (hopefully)\n",
    "\n",
    "Then, the hope is to combine these two RDD's into a dataframe, and then use withColumn to multiply the two columns into a third column that is the calculation of $Q^2$."
   ]
  },
  {
   "cell_type": "markdown",
   "metadata": {},
   "source": [
    "### NOTE: This actually breaks.  split_array_vals only returns the first item from each array!!!"
   ]
  },
  {
   "cell_type": "code",
   "execution_count": 35,
   "metadata": {
    "collapsed": true
   },
   "outputs": [],
   "source": [
    "def split_array_vals(array):\n",
    "    for item in array:\n",
    "        return item"
   ]
  },
  {
   "cell_type": "code",
   "execution_count": 36,
   "metadata": {
    "collapsed": true
   },
   "outputs": [],
   "source": [
    "angle_split = angle_rdd.map(split_array_vals)\n",
    "coef_split = coefficient_rdd.map(split_array_vals)"
   ]
  },
  {
   "cell_type": "code",
   "execution_count": 37,
   "metadata": {},
   "outputs": [
    {
     "name": "stdout",
     "output_type": "stream",
     "text": [
      "<class 'pyspark.rdd.PipelinedRDD'>\n",
      "<class 'pyspark.rdd.PipelinedRDD'>\n",
      "<class 'pyspark.rdd.PipelinedRDD'>\n"
     ]
    }
   ],
   "source": [
    "print type(angle_split)\n",
    "print type(angle_rdd)\n",
    "print type(coef_split)"
   ]
  },
  {
   "cell_type": "code",
   "execution_count": 38,
   "metadata": {},
   "outputs": [
    {
     "data": {
      "text/plain": [
       "[0.0027761245498136118,\n",
       " 0.0037797986912474026,\n",
       " 0.0019783030506479713,\n",
       " 0.0012072131503401032,\n",
       " None]"
      ]
     },
     "execution_count": 38,
     "metadata": {},
     "output_type": "execute_result"
    }
   ],
   "source": [
    "# Can see that it only took 1st item from each array\n",
    "angle_split.take(5)"
   ]
  },
  {
   "cell_type": "code",
   "execution_count": 39,
   "metadata": {},
   "outputs": [
    {
     "data": {
      "text/plain": [
       "[1806.820411682129,\n",
       " 565.9923791885376,\n",
       " 2194.891586303711,\n",
       " 741.3023614883423,\n",
       " None]"
      ]
     },
     "execution_count": 39,
     "metadata": {},
     "output_type": "execute_result"
    }
   ],
   "source": [
    "# Can see that it only took 1st item from each array\n",
    "coef_split.take(5)"
   ]
  },
  {
   "cell_type": "code",
   "execution_count": 40,
   "metadata": {
    "collapsed": true
   },
   "outputs": [],
   "source": [
    "#from pyspark.sql.types import StructType\n",
    "#from pyspark.sql.types import StructField\n",
    "#from pyspark.sql.types import StringType\n",
    "\n",
    "#schema = StructType([StructField(str(i), StringType(), True) for i in range(32)])\n",
    "\n",
    "#df = sqlContext.createDataFrame(new_df, schema)"
   ]
  },
  {
   "cell_type": "code",
   "execution_count": 41,
   "metadata": {
    "collapsed": true
   },
   "outputs": [],
   "source": [
    "#df.show()"
   ]
  },
  {
   "cell_type": "markdown",
   "metadata": {
    "collapsed": true
   },
   "source": [
    "## RDD with multiple columns"
   ]
  },
  {
   "cell_type": "code",
   "execution_count": 42,
   "metadata": {},
   "outputs": [
    {
     "data": {
      "text/plain": [
       "[Row(Emcalene=[16.425640106201172, 5.845077991485596, 6.004647731781006], Emth=[3.036165952682495, 0.20001855492591858, 0.1123889684677124]),\n",
       " Row(Emcalene=[5.145385265350342, 4.929872035980225], Emth=[3.018554925918579, 0.057119257748126984]),\n",
       " Row(Emcalene=[19.95355987548828, 4.668456554412842], Emth=[3.0526070594787598, 0.0831870511174202]),\n",
       " Row(Emcalene=[6.739112377166748], Emth=[3.0720887184143066]),\n",
       " Row(Emcalene=[], Emth=[])]"
      ]
     },
     "execution_count": 42,
     "metadata": {},
     "output_type": "execute_result"
    }
   ],
   "source": [
    "combined = selection.select(\"Emcalene\",\"Emth\").rdd\n",
    "combined.take(5)"
   ]
  },
  {
   "cell_type": "code",
   "execution_count": 43,
   "metadata": {
    "collapsed": true
   },
   "outputs": [],
   "source": [
    "def testing(row):\n",
    "    return (row[0],row[1])"
   ]
  },
  {
   "cell_type": "code",
   "execution_count": 44,
   "metadata": {},
   "outputs": [
    {
     "data": {
      "text/plain": [
       "[([16.425640106201172, 5.845077991485596, 6.004647731781006],\n",
       "  [3.036165952682495, 0.20001855492591858, 0.1123889684677124]),\n",
       " ([5.145385265350342, 4.929872035980225],\n",
       "  [3.018554925918579, 0.057119257748126984]),\n",
       " ([19.95355987548828, 4.668456554412842],\n",
       "  [3.0526070594787598, 0.0831870511174202]),\n",
       " ([6.739112377166748], [3.0720887184143066]),\n",
       " ([], [])]"
      ]
     },
     "execution_count": 44,
     "metadata": {},
     "output_type": "execute_result"
    }
   ],
   "source": [
    "test = combined.map(testing)\n",
    "test.take(5)"
   ]
  },
  {
   "cell_type": "code",
   "execution_count": 45,
   "metadata": {
    "collapsed": true
   },
   "outputs": [],
   "source": [
    "def match_pairs(row):\n",
    "    array = []\n",
    "    for x,y in zip(row[0],row[1]):\n",
    "        array.append((x,y))\n",
    "    return array"
   ]
  },
  {
   "cell_type": "code",
   "execution_count": 46,
   "metadata": {},
   "outputs": [
    {
     "data": {
      "text/plain": [
       "[[(16.425640106201172, 3.036165952682495),\n",
       "  (5.845077991485596, 0.20001855492591858),\n",
       "  (6.004647731781006, 0.1123889684677124)],\n",
       " [(5.145385265350342, 3.018554925918579),\n",
       "  (4.929872035980225, 0.057119257748126984)],\n",
       " [(19.95355987548828, 3.0526070594787598),\n",
       "  (4.668456554412842, 0.0831870511174202)],\n",
       " [(6.739112377166748, 3.0720887184143066)],\n",
       " []]"
      ]
     },
     "execution_count": 46,
     "metadata": {},
     "output_type": "execute_result"
    }
   ],
   "source": [
    "combined2 = combined.map(match_pairs)\n",
    "combined2.take(5)"
   ]
  },
  {
   "cell_type": "markdown",
   "metadata": {},
   "source": [
    "## Calculating $Q^2$ using pairs"
   ]
  },
  {
   "cell_type": "code",
   "execution_count": 47,
   "metadata": {
    "collapsed": true
   },
   "outputs": [],
   "source": [
    "def q_2(row):\n",
    "    calcs = []\n",
    "    for pair in row:\n",
    "        q2 = 27.5*4*pair[0]*(cos(pair[1]/2))**2\n",
    "        calcs.append(q2)\n",
    "    return calcs"
   ]
  },
  {
   "cell_type": "code",
   "execution_count": 48,
   "metadata": {},
   "outputs": [
    {
     "data": {
      "text/plain": [
       "[[5.015958501975095, 636.5492115482391, 658.4276693975863],\n",
       " [2.139337254112838, 541.8437273875365],\n",
       " [4.342160721026197, 512.6423149391454],\n",
       " [0.8949099591668996],\n",
       " []]"
      ]
     },
     "execution_count": 48,
     "metadata": {},
     "output_type": "execute_result"
    }
   ],
   "source": [
    "test = combined2.map(q_2)\n",
    "test.take(5)"
   ]
  },
  {
   "cell_type": "code",
   "execution_count": 49,
   "metadata": {},
   "outputs": [
    {
     "data": {
      "text/plain": [
       "[5.015958501975095,\n",
       " 636.5492115482391,\n",
       " 658.4276693975863,\n",
       " 2.139337254112838,\n",
       " 541.8437273875365,\n",
       " 4.342160721026197,\n",
       " 512.6423149391454,\n",
       " 0.8949099591668996,\n",
       " 6.282757892117972,\n",
       " 641.7099066150637]"
      ]
     },
     "execution_count": 49,
     "metadata": {},
     "output_type": "execute_result"
    }
   ],
   "source": [
    "# Flattening the results\n",
    "test2 = test.flatMap(lambda x: x)\n",
    "test2.take(10)"
   ]
  },
  {
   "cell_type": "code",
   "execution_count": 50,
   "metadata": {},
   "outputs": [
    {
     "data": {
      "text/plain": [
       "0.09783406999141177"
      ]
     },
     "execution_count": 50,
     "metadata": {},
     "output_type": "execute_result"
    }
   ],
   "source": [
    "test2.min()"
   ]
  },
  {
   "cell_type": "code",
   "execution_count": 51,
   "metadata": {},
   "outputs": [
    {
     "data": {
      "text/plain": [
       "27489.788956300265"
      ]
     },
     "execution_count": 51,
     "metadata": {},
     "output_type": "execute_result"
    }
   ],
   "source": [
    "test2.max()"
   ]
  },
  {
   "cell_type": "code",
   "execution_count": 52,
   "metadata": {},
   "outputs": [
    {
     "data": {
      "text/plain": [
       "<matplotlib.axes._subplots.AxesSubplot at 0x7f3402579290>"
      ]
     },
     "execution_count": 52,
     "metadata": {},
     "output_type": "execute_result"
    },
    {
     "data": {
      "image/png": "[encoded data removed]",
      "text/plain": [
       "<matplotlib.figure.Figure at 0x7f3424246790>"
      ]
     },
     "metadata": {},
     "output_type": "display_data"
    }
   ],
   "source": [
    "empty = hist.Bin(100, 0, 3000, lambda x: x)\n",
    "filled = test2.aggregate(empty, hist.increment, hist.combine)\n",
    "%matplotlib inline\n",
    "filled.plot.matplotlib(name=\"Q^2\")"
   ]
  },
  {
   "cell_type": "code",
   "execution_count": 53,
   "metadata": {},
   "outputs": [
    {
     "data": {
      "text/plain": [
       "[6.209185600280762,\n",
       " 696.8456420898438,\n",
       " 725.750244140625,\n",
       " 2.297110080718994,\n",
       " 562.731201171875,\n",
       " 4.466527938842773,\n",
       " 540.8382568359375,\n",
       " 0.9930397868156433,\n",
       " 6.8785529136657715,\n",
       " 684.3646240234375]"
      ]
     },
     "execution_count": 53,
     "metadata": {},
     "output_type": "execute_result"
    }
   ],
   "source": [
    "emq2el = df.select(\"Emq2el\").rdd\n",
    "#emq2el.take(5)\n",
    "q2flat = emq2el.flatMap(lambda x: x[0])\n",
    "q2flat.take(10)"
   ]
  },
  {
   "cell_type": "code",
   "execution_count": 54,
   "metadata": {},
   "outputs": [
    {
     "data": {
      "text/plain": [
       "[(5.015958501975095, 6.209185600280762),\n",
       " (636.5492115482391, 696.8456420898438),\n",
       " (658.4276693975863, 725.750244140625),\n",
       " (2.139337254112838, 2.297110080718994),\n",
       " (541.8437273875365, 562.731201171875)]"
      ]
     },
     "execution_count": 54,
     "metadata": {},
     "output_type": "execute_result"
    }
   ],
   "source": [
    "points = test2.zip(q2flat)\n",
    "points.take(5)"
   ]
  },
  {
   "cell_type": "code",
   "execution_count": 55,
   "metadata": {},
   "outputs": [
    {
     "name": "stdout",
     "output_type": "stream",
     "text": [
      "<class 'pyspark.rdd.RDD'>\n"
     ]
    }
   ],
   "source": [
    "print type(points)"
   ]
  },
  {
   "cell_type": "code",
   "execution_count": 56,
   "metadata": {
    "collapsed": true
   },
   "outputs": [],
   "source": [
    "# Needs to be fed x and y values separately inside scatter command...but RDD not iterable \n",
    "#plt.scatter(points)"
   ]
  },
  {
   "cell_type": "markdown",
   "metadata": {},
   "source": [
    "Could not figure out how to make scatterplot with RDD - Viktor said to use DataFrames"
   ]
  },
  {
   "cell_type": "markdown",
   "metadata": {},
   "source": [
    "# RDD's are not as Efficient as DataFrames"
   ]
  },
  {
   "cell_type": "markdown",
   "metadata": {},
   "source": [
    "## Try to do the same with a DataFrame"
   ]
  },
  {
   "cell_type": "code",
   "execution_count": 57,
   "metadata": {},
   "outputs": [
    {
     "name": "stdout",
     "output_type": "stream",
     "text": [
      "+--------------------+--------------------+--------------------+\n",
      "|            Emcalene|                Emth|              Emq2el|\n",
      "+--------------------+--------------------+--------------------+\n",
      "|[16.42564, 5.8450...|[3.036166, 0.2000...|[6.2091856, 696.8...|\n",
      "|[5.1453853, 4.929...|[3.018555, 0.0571...| [2.29711, 562.7312]|\n",
      "|[19.95356, 4.6684...|[3.052607, 0.0831...|[4.466528, 540.83...|\n",
      "|         [6.7391124]|         [3.0720887]|         [0.9930398]|\n",
      "|                  []|                  []|                  []|\n",
      "+--------------------+--------------------+--------------------+\n",
      "only showing top 5 rows\n",
      "\n"
     ]
    }
   ],
   "source": [
    "data = df.select(\"Emcalene\",\"Emth\",\"Emq2el\")\n",
    "data.show(5)"
   ]
  },
  {
   "cell_type": "code",
   "execution_count": 58,
   "metadata": {
    "collapsed": true
   },
   "outputs": [],
   "source": [
    "#data2 = data.withColumn(\"q2\",4*27.5*data.Emcalene*(cos(data.Emth/2))**2)"
   ]
  },
  {
   "cell_type": "code",
   "execution_count": 59,
   "metadata": {
    "collapsed": true
   },
   "outputs": [],
   "source": [
    "#data2 = data.explode(data.Emcalene)"
   ]
  },
  {
   "cell_type": "code",
   "execution_count": 60,
   "metadata": {},
   "outputs": [
    {
     "name": "stdout",
     "output_type": "stream",
     "text": [
      "+---+---------+-----------+\n",
      "|  a|  intlist|   mapfield|\n",
      "+---+---------+-----------+\n",
      "|  1|[1, 2, 3]|Map(a -> b)|\n",
      "+---+---------+-----------+\n",
      "\n"
     ]
    }
   ],
   "source": [
    "from pyspark.sql import Row\n",
    "eDF = spark.createDataFrame([Row(a=1, intlist=[1,2,3], mapfield={\"a\": \"b\"})])\n",
    "eDF.show()"
   ]
  },
  {
   "cell_type": "code",
   "execution_count": 61,
   "metadata": {},
   "outputs": [
    {
     "name": "stdout",
     "output_type": "stream",
     "text": [
      "+-----+\n",
      "|anInt|\n",
      "+-----+\n",
      "|    1|\n",
      "|    2|\n",
      "|    3|\n",
      "+-----+\n",
      "\n"
     ]
    }
   ],
   "source": [
    "from pyspark.sql.functions import explode\n",
    "eDF.select(explode(eDF.intlist).alias(\"anInt\")).show()"
   ]
  },
  {
   "cell_type": "code",
   "execution_count": 62,
   "metadata": {
    "collapsed": true
   },
   "outputs": [],
   "source": [
    "#emcal = data.select(explode(data.Emcalene))\n",
    "#print type(emcal)\n",
    "#print type(emcal.col)\n",
    "#data2 = data.withColumn(\"Emcal\",emcal.col)"
   ]
  },
  {
   "cell_type": "code",
   "execution_count": 63,
   "metadata": {
    "collapsed": true
   },
   "outputs": [],
   "source": [
    "from pyspark.sql.functions import udf"
   ]
  },
  {
   "cell_type": "code",
   "execution_count": 64,
   "metadata": {
    "collapsed": true
   },
   "outputs": [],
   "source": [
    "#def explode_data(row):\n",
    "#    return explode(row)\n",
    "\n",
    "#udfExplode = udf(explode_data,FloatType())"
   ]
  },
  {
   "cell_type": "code",
   "execution_count": 65,
   "metadata": {
    "collapsed": true
   },
   "outputs": [],
   "source": [
    "#def match_pairs_dataframe(row):\n",
    "#    array = []\n",
    "#    for x,y in row[0],row[1]:\n",
    "#        for e1,e2 in zip(x,y):\n",
    "#            array.append((e1,e2))\n",
    "#    return array"
   ]
  },
  {
   "cell_type": "code",
   "execution_count": 66,
   "metadata": {
    "collapsed": true
   },
   "outputs": [],
   "source": [
    "#udfmatch = udf(match_pairs_dataframe)\n",
    "#data2 = udfmatch(data)"
   ]
  },
  {
   "cell_type": "markdown",
   "metadata": {},
   "source": [
    "# Converting RDD to DataFrame - For Real"
   ]
  },
  {
   "cell_type": "code",
   "execution_count": 67,
   "metadata": {
    "collapsed": true
   },
   "outputs": [],
   "source": [
    "from pyspark.sql.types import Row\n",
    "\n",
    "#here you are going to create a function\n",
    "def f(x):\n",
    "    d = {}\n",
    "    for i in range(len(x)):\n",
    "        d[str(i)] = x[i]\n",
    "    return d\n",
    "\n",
    "#Now populate that\n",
    "data2 = points.map(lambda x: Row(**f(x))).toDF()"
   ]
  },
  {
   "cell_type": "code",
   "execution_count": 68,
   "metadata": {},
   "outputs": [
    {
     "name": "stdout",
     "output_type": "stream",
     "text": [
      "+------------------+------------------+\n",
      "|                 0|                 1|\n",
      "+------------------+------------------+\n",
      "| 5.015958501975095| 6.209185600280762|\n",
      "| 636.5492115482391| 696.8456420898438|\n",
      "| 658.4276693975863|  725.750244140625|\n",
      "| 2.139337254112838| 2.297110080718994|\n",
      "| 541.8437273875365|  562.731201171875|\n",
      "| 4.342160721026197| 4.466527938842773|\n",
      "| 512.6423149391454| 540.8382568359375|\n",
      "|0.8949099591668996|0.9930397868156433|\n",
      "| 6.282757892117972|6.8785529136657715|\n",
      "| 641.7099066150637| 684.3646240234375|\n",
      "|20.141258127207557|20.308908462524414|\n",
      "| 6.280400072171342| 6.680352210998535|\n",
      "| 514.2568237252826|    595.4931640625|\n",
      "| 990.5260859626181|  974.857177734375|\n",
      "| 3.904656723264059|   4.0141921043396|\n",
      "| 897.0965581679836| 938.6382446289062|\n",
      "| 5.588391556624824| 6.169318675994873|\n",
      "|1.5749015365931887|1.6244956254959106|\n",
      "|1.4494526920576092|1.5254446268081665|\n",
      "| 664.8928103030667|  717.348388671875|\n",
      "+------------------+------------------+\n",
      "only showing top 20 rows\n",
      "\n"
     ]
    }
   ],
   "source": [
    "data2.show()"
   ]
  },
  {
   "cell_type": "markdown",
   "metadata": {},
   "source": [
    "## Renaming Columns"
   ]
  },
  {
   "cell_type": "code",
   "execution_count": 69,
   "metadata": {},
   "outputs": [
    {
     "data": {
      "text/plain": [
       "['0', '1']"
      ]
     },
     "execution_count": 69,
     "metadata": {},
     "output_type": "execute_result"
    },
    {
     "name": "stdout",
     "output_type": "stream",
     "text": [
      "<class 'pyspark.sql.dataframe.DataFrame'>\n"
     ]
    }
   ],
   "source": [
    "print type(data2)\n",
    "data2.schema.names"
   ]
  },
  {
   "cell_type": "code",
   "execution_count": 70,
   "metadata": {},
   "outputs": [
    {
     "name": "stdout",
     "output_type": "stream",
     "text": [
      "+------------------+------------------+\n",
      "|            Q2Calc|              EmQ2|\n",
      "+------------------+------------------+\n",
      "| 5.015958501975095| 6.209185600280762|\n",
      "| 636.5492115482391| 696.8456420898438|\n",
      "| 658.4276693975863|  725.750244140625|\n",
      "| 2.139337254112838| 2.297110080718994|\n",
      "| 541.8437273875365|  562.731201171875|\n",
      "| 4.342160721026197| 4.466527938842773|\n",
      "| 512.6423149391454| 540.8382568359375|\n",
      "|0.8949099591668996|0.9930397868156433|\n",
      "| 6.282757892117972|6.8785529136657715|\n",
      "| 641.7099066150637| 684.3646240234375|\n",
      "|20.141258127207557|20.308908462524414|\n",
      "| 6.280400072171342| 6.680352210998535|\n",
      "| 514.2568237252826|    595.4931640625|\n",
      "| 990.5260859626181|  974.857177734375|\n",
      "| 3.904656723264059|   4.0141921043396|\n",
      "| 897.0965581679836| 938.6382446289062|\n",
      "| 5.588391556624824| 6.169318675994873|\n",
      "|1.5749015365931887|1.6244956254959106|\n",
      "|1.4494526920576092|1.5254446268081665|\n",
      "| 664.8928103030667|  717.348388671875|\n",
      "+------------------+------------------+\n",
      "only showing top 20 rows\n",
      "\n"
     ]
    }
   ],
   "source": [
    "from pyspark.sql.functions import *\n",
    "\n",
    "Q_data = data2.select(col(\"0\").alias(\"Q2Calc\"), col(\"1\").alias(\"EmQ2\"))\n",
    "Q_data.show()"
   ]
  },
  {
   "cell_type": "markdown",
   "metadata": {},
   "source": [
    "## Converting to sampled array for plotting"
   ]
  },
  {
   "cell_type": "code",
   "execution_count": 71,
   "metadata": {},
   "outputs": [
    {
     "name": "stdout",
     "output_type": "stream",
     "text": [
      "Row(Q2Calc=5.015958501975095, EmQ2=6.209185600280762)\n",
      "5.01595850198\n",
      "<type 'list'>\n"
     ]
    }
   ],
   "source": [
    "Q_array = Q_data.select(\"Q2Calc\",\"EmQ2\").collect()\n",
    "print Q_array[0]\n",
    "print Q_array[0][0]\n",
    "print type(Q_array)"
   ]
  },
  {
   "cell_type": "code",
   "execution_count": 72,
   "metadata": {
    "scrolled": true
   },
   "outputs": [
    {
     "name": "stdout",
     "output_type": "stream",
     "text": [
      "[Row(Q2Calc=6.177512916080762, EmQ2=6.462905406951904), Row(Q2Calc=1995.0282049102013, EmQ2=2072.15283203125), Row(Q2Calc=465.0329821796536, EmQ2=544.9459228515625), Row(Q2Calc=2.600013178544931, EmQ2=2.7610650062561035), Row(Q2Calc=1474.9558113140931, EmQ2=1535.950439453125), Row(Q2Calc=630.645724057192, EmQ2=650.10888671875), Row(Q2Calc=3.472876148005181, EmQ2=3.973836660385132), Row(Q2Calc=581.5881293445583, EmQ2=643.3831787109375), Row(Q2Calc=7.645957943116343, EmQ2=7.924780368804932), Row(Q2Calc=5.708157028693215, EmQ2=6.106612205505371), Row(Q2Calc=1844.9850245519829, EmQ2=1936.0335693359375), Row(Q2Calc=8.257929934141126, EmQ2=9.417142868041992), Row(Q2Calc=30.530020741041305, EmQ2=32.439327239990234), Row(Q2Calc=645.7910624719531, EmQ2=674.0447998046875), Row(Q2Calc=612.9218328591795, EmQ2=685.043212890625), Row(Q2Calc=1.8683242888760538, EmQ2=1.9345570802688599), Row(Q2Calc=24.61662170203158, EmQ2=26.442930221557617), Row(Q2Calc=485.05574365028957, EmQ2=503.51934814453125), Row(Q2Calc=16.26584731586712, EmQ2=18.108924865722656), Row(Q2Calc=1145.5764950202672, EmQ2=1167.904052734375), Row(Q2Calc=3.972350571847191, EmQ2=4.070192337036133), Row(Q2Calc=544.8269170707172, EmQ2=576.3001708984375), Row(Q2Calc=0.5346263746837286, EmQ2=0.5660392642021179), Row(Q2Calc=6.907873602763677, EmQ2=7.0791096687316895), Row(Q2Calc=3.1317630379224606, EmQ2=3.210602045059204), Row(Q2Calc=621.1618209583249, EmQ2=649.9409790039062), Row(Q2Calc=8.760076089779334, EmQ2=8.9130859375), Row(Q2Calc=5.584001655824449, EmQ2=5.684509754180908), Row(Q2Calc=0.7961262979004031, EmQ2=0.8183494806289673), Row(Q2Calc=835.9628622133215, EmQ2=816.0919189453125), Row(Q2Calc=1.4325557950505796, EmQ2=1.5427565574645996), Row(Q2Calc=539.184721794037, EmQ2=602.7675170898438), Row(Q2Calc=1232.518321006236, EmQ2=1262.562744140625), Row(Q2Calc=625.829871589514, EmQ2=658.7308349609375), Row(Q2Calc=696.0628931028881, EmQ2=750.38232421875), Row(Q2Calc=8.47849261333119, EmQ2=8.653336524963379), Row(Q2Calc=7.820059747151509, EmQ2=8.482400894165039), Row(Q2Calc=892.0500644700832, EmQ2=942.6761474609375), Row(Q2Calc=155.32594691898694, EmQ2=183.26727294921875), Row(Q2Calc=942.65578324553, EmQ2=1051.764404296875), Row(Q2Calc=3.979659382710353, EmQ2=4.112740516662598), Row(Q2Calc=5.252165798255963, EmQ2=5.692645072937012), Row(Q2Calc=1254.3423736507577, EmQ2=1496.4034423828125), Row(Q2Calc=510.08166295366055, EmQ2=534.792724609375), Row(Q2Calc=575.9112117313784, EmQ2=646.9541625976562), Row(Q2Calc=524.1224048735955, EmQ2=593.91259765625), Row(Q2Calc=13.241714683743451, EmQ2=13.650100708007812), Row(Q2Calc=3.8403814139576977, EmQ2=3.9361019134521484), Row(Q2Calc=723.8366063455865, EmQ2=792.874267578125), Row(Q2Calc=42.78321234836468, EmQ2=44.27635192871094)]\n"
     ]
    }
   ],
   "source": [
    "Q_sample = Q_data.sample(False, 0.01, 42).collect()\n",
    "print Q_sample[0:50]"
   ]
  },
  {
   "cell_type": "markdown",
   "metadata": {},
   "source": [
    "## Plotting Scatterplot"
   ]
  },
  {
   "cell_type": "code",
   "execution_count": 73,
   "metadata": {},
   "outputs": [
    {
     "data": {
      "image/png": "[encoded data removed]",
      "text/plain": [
       "<matplotlib.figure.Figure at 0x7f33ff100890>"
      ]
     },
     "metadata": {},
     "output_type": "display_data"
    }
   ],
   "source": [
    "for row in Q_sample:\n",
    "    x = row[0]\n",
    "    y = row[1]\n",
    "    plt.scatter(x,y)\n",
    "\n",
    "plt.title('Scatterplot CalcQ2 vs EmQ2el')\n",
    "plt.xlabel('Calculated')\n",
    "plt.ylabel('EmQ2el')   \n",
    "plt.show()"
   ]
  },
  {
   "cell_type": "markdown",
   "metadata": {},
   "source": [
    "# Filter Data with Emprob"
   ]
  },
  {
   "cell_type": "code",
   "execution_count": 74,
   "metadata": {},
   "outputs": [
    {
     "name": "stdout",
     "output_type": "stream",
     "text": [
      "<class 'pyspark.sql.dataframe.DataFrame'>\n",
      "+-------+\n",
      "|Emncand|\n",
      "+-------+\n",
      "|      3|\n",
      "|      2|\n",
      "|      2|\n",
      "|      1|\n",
      "|      0|\n",
      "|      2|\n",
      "|      1|\n",
      "|      0|\n",
      "|      3|\n",
      "|      1|\n",
      "|      1|\n",
      "|      1|\n",
      "|      2|\n",
      "|      1|\n",
      "|      0|\n",
      "|      1|\n",
      "|      1|\n",
      "|      0|\n",
      "|      0|\n",
      "|      1|\n",
      "+-------+\n",
      "only showing top 20 rows\n",
      "\n",
      "+--------------------+\n",
      "|              Emprob|\n",
      "+--------------------+\n",
      "|[0.08723083, 0.25...|\n",
      "|[0.939351, 0.2585...|\n",
      "|[0.037284255, 0.0...|\n",
      "|        [0.55371076]|\n",
      "|                  []|\n",
      "|[0.48681435, 0.00...|\n",
      "|        [0.92922276]|\n",
      "|                  []|\n",
      "|[0.93522364, 0.02...|\n",
      "|         [0.9350373]|\n",
      "|       [3.645794E-5]|\n",
      "|         [0.3580788]|\n",
      "|[0.73354083, 0.43...|\n",
      "|        [0.06654061]|\n",
      "|                  []|\n",
      "|        [0.46746105]|\n",
      "|         [0.0053049]|\n",
      "|                  []|\n",
      "|                  []|\n",
      "|        [0.93110394]|\n",
      "+--------------------+\n",
      "only showing top 20 rows\n",
      "\n"
     ]
    }
   ],
   "source": [
    "# For some reason fails when try to use df.select(\"Emprob\", \"Emncand\")\n",
    "numCand = df.select(\"Emncand\")\n",
    "print type(numCand)\n",
    "numCand.show()\n",
    "df.select(\"Emprob\").show()"
   ]
  },
  {
   "cell_type": "code",
   "execution_count": 75,
   "metadata": {
    "collapsed": true
   },
   "outputs": [],
   "source": [
    "# testing explode\n",
    "dfa = sqlContext.createDataFrame([Row(a=1, b=[1,2,3],c=[7,8,9]), Row(a=2, b=[4,5,6],c=[10,11,12])])\n",
    "dfb = dfa.select(dfa.a,explode(dfa.b).alias(\"b_row\"),dfa.c)\n",
    "dfc = dfb.select(dfb.a,dfb.b_row,explode(dfb.c).alias(\"c_row\"))"
   ]
  },
  {
   "cell_type": "code",
   "execution_count": 76,
   "metadata": {},
   "outputs": [
    {
     "name": "stdout",
     "output_type": "stream",
     "text": [
      "+---+---------+------------+\n",
      "|  a|        b|           c|\n",
      "+---+---------+------------+\n",
      "|  1|[1, 2, 3]|   [7, 8, 9]|\n",
      "|  2|[4, 5, 6]|[10, 11, 12]|\n",
      "+---+---------+------------+\n",
      "\n",
      "+---+-----+------------+\n",
      "|  a|b_row|           c|\n",
      "+---+-----+------------+\n",
      "|  1|    1|   [7, 8, 9]|\n",
      "|  1|    2|   [7, 8, 9]|\n",
      "|  1|    3|   [7, 8, 9]|\n",
      "|  2|    4|[10, 11, 12]|\n",
      "|  2|    5|[10, 11, 12]|\n",
      "|  2|    6|[10, 11, 12]|\n",
      "+---+-----+------------+\n",
      "\n",
      "+---+-----+-----+\n",
      "|  a|b_row|c_row|\n",
      "+---+-----+-----+\n",
      "|  1|    1|    7|\n",
      "|  1|    1|    8|\n",
      "|  1|    1|    9|\n",
      "|  1|    2|    7|\n",
      "|  1|    2|    8|\n",
      "|  1|    2|    9|\n",
      "|  1|    3|    7|\n",
      "|  1|    3|    8|\n",
      "|  1|    3|    9|\n",
      "|  2|    4|   10|\n",
      "|  2|    4|   11|\n",
      "|  2|    4|   12|\n",
      "|  2|    5|   10|\n",
      "|  2|    5|   11|\n",
      "|  2|    5|   12|\n",
      "|  2|    6|   10|\n",
      "|  2|    6|   11|\n",
      "|  2|    6|   12|\n",
      "+---+-----+-----+\n",
      "\n"
     ]
    }
   ],
   "source": [
    "# testing explode - it does cartesian product - I only want to map elements of same index of arrays together\n",
    "dfa.show()\n",
    "dfb.show()\n",
    "dfc.show()"
   ]
  },
  {
   "cell_type": "code",
   "execution_count": 77,
   "metadata": {},
   "outputs": [
    {
     "data": {
      "text/plain": [
       "[Row(Emprob=[0.08723083138465881, 0.25005948543548584, 0.2125348299741745], Emcalene=[16.425640106201172, 5.845077991485596, 6.004647731781006], Emth=[3.036165952682495, 0.20001855492591858, 0.1123889684677124]),\n",
       " Row(Emprob=[0.9393510222434998, 0.258521169424057], Emcalene=[5.145385265350342, 4.929872035980225], Emth=[3.018554925918579, 0.057119257748126984]),\n",
       " Row(Emprob=[0.037284255027770996, 0.0028328464832156897], Emcalene=[19.95355987548828, 4.668456554412842], Emth=[3.0526070594787598, 0.0831870511174202]),\n",
       " Row(Emprob=[0.5537107586860657], Emcalene=[6.739112377166748], Emth=[3.0720887184143066]),\n",
       " Row(Emprob=[], Emcalene=[], Emth=[])]"
      ]
     },
     "execution_count": 77,
     "metadata": {},
     "output_type": "execute_result"
    }
   ],
   "source": [
    "#filter_data = df.select(\"Emprob\",\"Emcalene\",\"Emth\").join(Q_data,[\"CalcQ2\",\"EmQ2el\"],\"outer\")\n",
    "start = df.select(\"Emprob\",\"Emcalene\",\"Emth\").rdd\n",
    "start.take(5)"
   ]
  },
  {
   "cell_type": "code",
   "execution_count": 78,
   "metadata": {
    "collapsed": true
   },
   "outputs": [],
   "source": [
    "def match_trips(row):\n",
    "    array = []\n",
    "    for a,b,c in zip(row[0],row[1],row[2]):\n",
    "        array.append((a,b,c))\n",
    "    return array"
   ]
  },
  {
   "cell_type": "code",
   "execution_count": 79,
   "metadata": {},
   "outputs": [
    {
     "data": {
      "text/plain": [
       "[(0.08723083138465881, 16.425640106201172, 3.036165952682495),\n",
       " (0.25005948543548584, 5.845077991485596, 0.20001855492591858),\n",
       " (0.2125348299741745, 6.004647731781006, 0.1123889684677124),\n",
       " (0.9393510222434998, 5.145385265350342, 3.018554925918579),\n",
       " (0.258521169424057, 4.929872035980225, 0.057119257748126984),\n",
       " (0.037284255027770996, 19.95355987548828, 3.0526070594787598),\n",
       " (0.0028328464832156897, 4.668456554412842, 0.0831870511174202),\n",
       " (0.5537107586860657, 6.739112377166748, 3.0720887184143066),\n",
       " (0.48681434988975525, 7.086331367492676, 2.9617953300476074),\n",
       " (0.0012921133311465383, 5.864682197570801, 0.1454324722290039)]"
      ]
     },
     "execution_count": 79,
     "metadata": {},
     "output_type": "execute_result"
    }
   ],
   "source": [
    "flatStart = start.flatMap(match_trips)\n",
    "flatStart.take(10)"
   ]
  },
  {
   "cell_type": "code",
   "execution_count": 80,
   "metadata": {},
   "outputs": [
    {
     "name": "stdout",
     "output_type": "stream",
     "text": [
      "+--------------------+------------------+--------------------+\n",
      "|                   0|                 1|                   2|\n",
      "+--------------------+------------------+--------------------+\n",
      "| 0.08723083138465881|16.425640106201172|   3.036165952682495|\n",
      "| 0.25005948543548584| 5.845077991485596| 0.20001855492591858|\n",
      "|  0.2125348299741745| 6.004647731781006|  0.1123889684677124|\n",
      "|  0.9393510222434998| 5.145385265350342|   3.018554925918579|\n",
      "|   0.258521169424057| 4.929872035980225|0.057119257748126984|\n",
      "|0.037284255027770996| 19.95355987548828|  3.0526070594787598|\n",
      "|0.002832846483215...| 4.668456554412842|  0.0831870511174202|\n",
      "|  0.5537107586860657| 6.739112377166748|  3.0720887184143066|\n",
      "| 0.48681434988975525| 7.086331367492676|  2.9617953300476074|\n",
      "|0.001292113331146...| 5.864682197570801|  0.1454324722290039|\n",
      "|  0.9292227625846863|27.946359634399414|   2.979527473449707|\n",
      "|  0.9352236390113831|22.427814483642578|   3.040639877319336|\n",
      "|0.026606209576129913| 4.715088367462158| 0.18453313410282135|\n",
      "|0.005978332832455635| 9.028997421264648| 0.10362038016319275|\n",
      "|  0.9350373148918152|12.521042823791504|   3.035053253173828|\n",
      "|3.645793913165107...| 8.177665710449219| 0.10435271263122559|\n",
      "| 0.35807880759239197| 7.160803318023682|   2.972933053970337|\n",
      "|  0.7335408329963684|10.717334747314453|   3.068476438522339|\n",
      "|  0.4391336143016815| 4.129190921783447|  3.0285520553588867|\n",
      "| 0.06654060631990433| 6.057034015655518| 0.09108352661132812|\n",
      "+--------------------+------------------+--------------------+\n",
      "only showing top 20 rows\n",
      "\n"
     ]
    }
   ],
   "source": [
    "filter_data = flatStart.map(lambda x: Row(**f(x))).toDF()\n",
    "filter_data.show()"
   ]
  },
  {
   "cell_type": "code",
   "execution_count": 81,
   "metadata": {},
   "outputs": [
    {
     "name": "stdout",
     "output_type": "stream",
     "text": [
      "+--------------------+------------------+--------------------+\n",
      "|              Emprob|          Emcalene|                Emth|\n",
      "+--------------------+------------------+--------------------+\n",
      "| 0.08723083138465881|16.425640106201172|   3.036165952682495|\n",
      "| 0.25005948543548584| 5.845077991485596| 0.20001855492591858|\n",
      "|  0.2125348299741745| 6.004647731781006|  0.1123889684677124|\n",
      "|  0.9393510222434998| 5.145385265350342|   3.018554925918579|\n",
      "|   0.258521169424057| 4.929872035980225|0.057119257748126984|\n",
      "|0.037284255027770996| 19.95355987548828|  3.0526070594787598|\n",
      "|0.002832846483215...| 4.668456554412842|  0.0831870511174202|\n",
      "|  0.5537107586860657| 6.739112377166748|  3.0720887184143066|\n",
      "| 0.48681434988975525| 7.086331367492676|  2.9617953300476074|\n",
      "|0.001292113331146...| 5.864682197570801|  0.1454324722290039|\n",
      "|  0.9292227625846863|27.946359634399414|   2.979527473449707|\n",
      "|  0.9352236390113831|22.427814483642578|   3.040639877319336|\n",
      "|0.026606209576129913| 4.715088367462158| 0.18453313410282135|\n",
      "|0.005978332832455635| 9.028997421264648| 0.10362038016319275|\n",
      "|  0.9350373148918152|12.521042823791504|   3.035053253173828|\n",
      "|3.645793913165107...| 8.177665710449219| 0.10435271263122559|\n",
      "| 0.35807880759239197| 7.160803318023682|   2.972933053970337|\n",
      "|  0.7335408329963684|10.717334747314453|   3.068476438522339|\n",
      "|  0.4391336143016815| 4.129190921783447|  3.0285520553588867|\n",
      "| 0.06654060631990433| 6.057034015655518| 0.09108352661132812|\n",
      "+--------------------+------------------+--------------------+\n",
      "only showing top 20 rows\n",
      "\n"
     ]
    }
   ],
   "source": [
    "filter_data = filter_data.select(col(\"0\").alias(\"Emprob\"), col(\"1\").alias(\"Emcalene\"), col(\"2\").alias(\"Emth\"))\n",
    "filter_data.show()"
   ]
  },
  {
   "cell_type": "code",
   "execution_count": 82,
   "metadata": {},
   "outputs": [],
   "source": [
    "#from pyspark.sql.window import Window\n",
    "#from pyspark.sql.functions import row_number\n",
    "#w = Window().orderBy()\n",
    "#to_join_1= filter_data.withColumn(\"rowNum\", row_number().over(w))\n",
    "#to_join_1.show()"
   ]
  },
  {
   "cell_type": "code",
   "execution_count": 83,
   "metadata": {},
   "outputs": [],
   "source": [
    "#joined = filter_data.join(Q_data)\n",
    "#joined.show()"
   ]
  },
  {
   "cell_type": "code",
   "execution_count": 84,
   "metadata": {},
   "outputs": [
    {
     "name": "stdout",
     "output_type": "stream",
     "text": [
      "+--------------------+------------------+--------------------+-----------+\n",
      "|              Emprob|          Emcalene|                Emth|         id|\n",
      "+--------------------+------------------+--------------------+-----------+\n",
      "| 0.08723083138465881|16.425640106201172|   3.036165952682495|60129542144|\n",
      "| 0.25005948543548584| 5.845077991485596| 0.20001855492591858|60129542145|\n",
      "|  0.2125348299741745| 6.004647731781006|  0.1123889684677124|60129542146|\n",
      "|  0.9393510222434998| 5.145385265350342|   3.018554925918579|60129542147|\n",
      "|   0.258521169424057| 4.929872035980225|0.057119257748126984|60129542148|\n",
      "|0.037284255027770996| 19.95355987548828|  3.0526070594787598|60129542149|\n",
      "|0.002832846483215...| 4.668456554412842|  0.0831870511174202|60129542150|\n",
      "|  0.5537107586860657| 6.739112377166748|  3.0720887184143066|60129542151|\n",
      "| 0.48681434988975525| 7.086331367492676|  2.9617953300476074|60129542152|\n",
      "|0.001292113331146...| 5.864682197570801|  0.1454324722290039|60129542153|\n",
      "|  0.9292227625846863|27.946359634399414|   2.979527473449707|60129542154|\n",
      "|  0.9352236390113831|22.427814483642578|   3.040639877319336|60129542155|\n",
      "|0.026606209576129913| 4.715088367462158| 0.18453313410282135|60129542156|\n",
      "|0.005978332832455635| 9.028997421264648| 0.10362038016319275|60129542157|\n",
      "|  0.9350373148918152|12.521042823791504|   3.035053253173828|60129542158|\n",
      "|3.645793913165107...| 8.177665710449219| 0.10435271263122559|60129542159|\n",
      "| 0.35807880759239197| 7.160803318023682|   2.972933053970337|60129542160|\n",
      "|  0.7335408329963684|10.717334747314453|   3.068476438522339|60129542161|\n",
      "|  0.4391336143016815| 4.129190921783447|  3.0285520553588867|60129542162|\n",
      "| 0.06654060631990433| 6.057034015655518| 0.09108352661132812|60129542163|\n",
      "+--------------------+------------------+--------------------+-----------+\n",
      "only showing top 20 rows\n",
      "\n"
     ]
    }
   ],
   "source": [
    "from pyspark.sql.functions import monotonically_increasing_id\n",
    "\n",
    "# This will return a new DF with all the columns + id\n",
    "ids = monotonically_increasing_id()\n",
    "filter_ids = filter_data.withColumn(\"id\", ids)\n",
    "filter_ids.show()"
   ]
  },
  {
   "cell_type": "code",
   "execution_count": 85,
   "metadata": {},
   "outputs": [
    {
     "name": "stdout",
     "output_type": "stream",
     "text": [
      "+------------------+------------------+-----------+\n",
      "|            Q2Calc|              EmQ2|         id|\n",
      "+------------------+------------------+-----------+\n",
      "| 5.015958501975095| 6.209185600280762|60129542144|\n",
      "| 636.5492115482391| 696.8456420898438|60129542145|\n",
      "| 658.4276693975863|  725.750244140625|60129542146|\n",
      "| 2.139337254112838| 2.297110080718994|60129542147|\n",
      "| 541.8437273875365|  562.731201171875|60129542148|\n",
      "| 4.342160721026197| 4.466527938842773|60129542149|\n",
      "| 512.6423149391454| 540.8382568359375|60129542150|\n",
      "|0.8949099591668996|0.9930397868156433|60129542151|\n",
      "| 6.282757892117972|6.8785529136657715|60129542152|\n",
      "| 641.7099066150637| 684.3646240234375|60129542153|\n",
      "|20.141258127207557|20.308908462524414|60129542154|\n",
      "| 6.280400072171342| 6.680352210998535|60129542155|\n",
      "| 514.2568237252826|    595.4931640625|60129542156|\n",
      "| 990.5260859626181|  974.857177734375|60129542157|\n",
      "| 3.904656723264059|   4.0141921043396|60129542158|\n",
      "| 897.0965581679836| 938.6382446289062|60129542159|\n",
      "| 5.588391556624824| 6.169318675994873|60129542160|\n",
      "|1.5749015365931887|1.6244956254959106|60129542161|\n",
      "|1.4494526920576092|1.5254446268081665|60129542162|\n",
      "| 664.8928103030667|  717.348388671875|60129542163|\n",
      "+------------------+------------------+-----------+\n",
      "only showing top 20 rows\n",
      "\n"
     ]
    }
   ],
   "source": [
    "Q_ids = Q_data.withColumn(\"id\",ids)\n",
    "Q_ids.show()"
   ]
  },
  {
   "cell_type": "code",
   "execution_count": 86,
   "metadata": {},
   "outputs": [
    {
     "name": "stdout",
     "output_type": "stream",
     "text": [
      "+-----------+--------------------+------------------+-------------------+------------------+------------------+\n",
      "|         id|              Emprob|          Emcalene|               Emth|            Q2Calc|              EmQ2|\n",
      "+-----------+--------------------+------------------+-------------------+------------------+------------------+\n",
      "|60129542213|1.689303417151677...| 6.195012092590332|0.09428342431783676|    679.9380344553| 707.6766357421875|\n",
      "|60129542543|3.597602772060781...| 5.436313629150391|0.13280488550662994| 595.3616444710729| 681.2945556640625|\n",
      "|60129542564|2.299294283147901...|10.160087585449219| 0.3243769705295563|1088.4676733096858|1103.4119873046875|\n",
      "|60129542797|  0.9305214881896973|15.990128517150879| 3.0740697383880615|2.0041120614851002| 2.114215135574341|\n",
      "|60129543004|2.514538437026203...| 7.244929313659668| 0.1190977469086647| 794.1195517507515| 846.7213134765625|\n",
      "|60129543145|1.255470942851388...| 8.112351417541504| 0.1820245087146759| 884.9874298273046| 955.1446533203125|\n",
      "|60129543264|1.122866087825968...| 8.209734916687012|0.13238070905208588| 899.1201149026608|    948.9912109375|\n",
      "|60129543365| 0.09616033732891083| 4.692390441894531|0.11101972311735153| 514.5741055573307| 576.6065673828125|\n",
      "|60129543908|0.001617946429178...| 8.366789817810059|0.08114618062973022|  918.832658493815|   1000.4326171875|\n",
      "|60129543941|  0.0014082589186728|   5.3802490234375|0.14834772050380707| 588.5772664259357| 639.7601928710938|\n",
      "|60129543980|   0.881237804889679|27.114118576049805| 2.9842419624328613|18.423377153419853|19.296489715576172|\n",
      "|60129544318|0.008327299728989601| 6.747800350189209|  3.024629592895508| 2.535696095963705| 2.670511245727539|\n",
      "|60129544428| 0.05297818407416344|13.575715065002441|  3.027189254760742| 4.880895788590089| 4.975942134857178|\n",
      "|60129544479|  0.9350373148918152|17.679519653320312| 3.0441126823425293| 4.616257340984358|4.7738823890686035|\n",
      "|60129544597| 0.20736071467399597| 9.067657470703125| 0.1380356401205063| 992.6985850685681|  1046.45263671875|\n",
      "|60129544603|  0.5237748026847839| 5.048800468444824|0.07543778419494629| 554.5782958098603|     592.142578125|\n",
      "|60129544699|  0.8855631947517395|10.489485740661621|0.10008543729782104| 1150.956302986092| 1207.801513671875|\n",
      "|60129544763| 0.12029162049293518| 4.269728183746338|0.06597214192152023| 469.1592464810762| 634.8521728515625|\n",
      "|60129544784|5.114176929055247...|13.304730415344238|0.08541949093341827|1460.8523283595223|1558.1353759765625|\n",
      "|60129544926|0.001841403660364449| 4.289685249328613|0.05566078796982765| 471.4999974913146| 497.4684143066406|\n",
      "+-----------+--------------------+------------------+-------------------+------------------+------------------+\n",
      "only showing top 20 rows\n",
      "\n"
     ]
    }
   ],
   "source": [
    "joined = filter_ids.join(Q_ids, \"id\", \"outer\")\n",
    "joined.show()"
   ]
  },
  {
   "cell_type": "code",
   "execution_count": 87,
   "metadata": {},
   "outputs": [
    {
     "name": "stdout",
     "output_type": "stream",
     "text": [
      "+-------+--------------------+\n",
      "|summary|              Emprob|\n",
      "+-------+--------------------+\n",
      "|  count|               57221|\n",
      "|   mean|   0.266209054781405|\n",
      "| stddev|  0.3650102337103936|\n",
      "|    min|2.585945530550872...|\n",
      "|    max|  0.9993994832038879|\n",
      "+-------+--------------------+\n",
      "\n"
     ]
    }
   ],
   "source": [
    "# just checking to make sure things didn't get screwed up\n",
    "# output from show sometimes looks wrong because of processes distribution, but is not\n",
    "\n",
    "filter_data.describe([\"Emprob\"]).show()"
   ]
  },
  {
   "cell_type": "code",
   "execution_count": 88,
   "metadata": {},
   "outputs": [
    {
     "name": "stdout",
     "output_type": "stream",
     "text": [
      "+-------+--------------------+\n",
      "|summary|              Emprob|\n",
      "+-------+--------------------+\n",
      "|  count|               57221|\n",
      "|   mean| 0.26620905478140416|\n",
      "| stddev|  0.3650102337103948|\n",
      "|    min|2.585945530550872...|\n",
      "|    max|  0.9993994832038879|\n",
      "+-------+--------------------+\n",
      "\n"
     ]
    }
   ],
   "source": [
    "joined.describe([\"Emprob\"]).show()"
   ]
  },
  {
   "cell_type": "markdown",
   "metadata": {},
   "source": [
    "## Choosing breakpoint for Emprob"
   ]
  },
  {
   "cell_type": "code",
   "execution_count": 89,
   "metadata": {},
   "outputs": [
    {
     "data": {
      "text/plain": [
       "<matplotlib.axes._subplots.AxesSubplot at 0x7f33fa58b5d0>"
      ]
     },
     "execution_count": 89,
     "metadata": {},
     "output_type": "execute_result"
    },
    {
     "data": {
      "image/png": "[encoded data removed]",
      "text/plain": [
       "<matplotlib.figure.Figure at 0x7f33fc78c850>"
      ]
     },
     "metadata": {},
     "output_type": "display_data"
    }
   ],
   "source": [
    "emprob_rdd = joined.select(\"Emprob\").rdd\n",
    "empty = hist.Bin(100, 0.7, 0.93, lambda x: x)\n",
    "filled = emprob_rdd.flatMap(lambda row: row).aggregate(empty, hist.increment, hist.combine)\n",
    "%matplotlib inline\n",
    "filled.plot.matplotlib(name=\"Emprob Histogram\")"
   ]
  },
  {
   "cell_type": "code",
   "execution_count": 90,
   "metadata": {},
   "outputs": [
    {
     "data": {
      "image/png": "[encoded data removed]",
      "text/plain": [
       "<IPython.core.display.Image object>"
      ]
     },
     "metadata": {},
     "output_type": "display_data"
    }
   ],
   "source": [
    "histogram4 = filled.plot.root(\"Emprob Statistics\", \"Emprob\")\n",
    "f = ROOT.TCanvas(\"f\")\n",
    "histogram4.Draw()\n",
    "f.Draw()"
   ]
  },
  {
   "cell_type": "markdown",
   "metadata": {},
   "source": [
    "It appears after messing with the range of the histogram and looking at several plots that a decent cut-off would be to filter out data where Emprob < 0.8."
   ]
  },
  {
   "cell_type": "code",
   "execution_count": 91,
   "metadata": {},
   "outputs": [
    {
     "name": "stdout",
     "output_type": "stream",
     "text": [
      "+-----------+------------------+------------------+-------------------+------------------+------------------+\n",
      "|         id|            Emprob|          Emcalene|               Emth|            Q2Calc|              EmQ2|\n",
      "+-----------+------------------+------------------+-------------------+------------------+------------------+\n",
      "|60129542797|0.9305214881896973|15.990128517150879| 3.0740697383880615|2.0041120614851002| 2.114215135574341|\n",
      "|60129543980| 0.881237804889679|27.114118576049805| 2.9842419624328613|18.423377153419853|19.296489715576172|\n",
      "|60129544479|0.9350373148918152|17.679519653320312| 3.0441126823425293| 4.616257340984358|4.7738823890686035|\n",
      "|60129544699|0.8855631947517395|10.489485740661621|0.10008543729782104| 1150.956302986092| 1207.801513671875|\n",
      "|60129548228|0.9366582036018372|14.011285781860352| 3.0530478954315186|3.0189271515906526| 3.080789804458618|\n",
      "|60129548710| 0.914371132850647|20.012554168701172| 3.0134902000427246| 9.018952973505371| 9.216503143310547|\n",
      "|60129549932|0.8646546602249146|25.256967544555664|  2.863487720489502|53.374075510008595|55.179561614990234|\n",
      "|60129550501|0.9350372552871704| 8.727252006530762| 3.0091140270233154|4.2059739143348445| 4.629109859466553|\n",
      "|60129550626|0.8080651760101318| 24.21504020690918| 3.0099868774414062| 11.51703972390775|12.290326118469238|\n",
      "|60129551225| 0.904670000076294|30.242033004760742| 3.0564146041870117| 6.030265917772332| 6.307868480682373|\n",
      "|60129551767|0.9061933755874634|25.707008361816406| 2.9950499534606934|15.154278863107477|16.088411331176758|\n",
      "|60129553798|0.8831724524497986|23.723678588867188| 3.0609943866729736| 4.235756816437403| 4.338635444641113|\n",
      "|60129554043|0.8838791251182556| 23.65346336364746| 3.0678369998931885|3.5368869700085543|3.7793610095977783|\n",
      "|60129554242|0.9350373148918152|10.164007186889648| 3.0351040363311768|3.1666028051769173| 3.273127555847168|\n",
      "|60129554438| 0.827926754951477|19.091018676757812|  3.020120859146118| 7.737107114002531| 8.121784210205078|\n",
      "|60129554831|0.9323223233222961|24.639223098754883| 3.0374200344085693| 7.346391873636747| 7.867336273193359|\n",
      "|60129555046|0.9350373148918152|  9.49319076538086|  3.043494701385498| 2.510247143895809| 2.567662477493286|\n",
      "|60129555695|0.9355487823486328|12.740914344787598| 2.9906821250915527| 7.964307053746906| 8.245232582092285|\n",
      "|60129556719|0.9324691891670227|18.315736770629883|   2.89589524269104|30.253274268033504| 34.78078079223633|\n",
      "|60129557308|0.9767428040504456|11.502002716064453|  2.962867021560669|10.076819618767042|10.988664627075195|\n",
      "+-----------+------------------+------------------+-------------------+------------------+------------------+\n",
      "only showing top 20 rows\n",
      "\n"
     ]
    }
   ],
   "source": [
    "filter_joined = joined.filter(joined.Emprob>=0.8)\n",
    "filter_joined.show()"
   ]
  },
  {
   "cell_type": "code",
   "execution_count": 92,
   "metadata": {},
   "outputs": [
    {
     "data": {
      "text/plain": [
       "11507"
      ]
     },
     "execution_count": 92,
     "metadata": {},
     "output_type": "execute_result"
    }
   ],
   "source": [
    "filter_joined.count()"
   ]
  },
  {
   "cell_type": "code",
   "execution_count": 93,
   "metadata": {},
   "outputs": [
    {
     "name": "stdout",
     "output_type": "stream",
     "text": [
      "[Row(Q2Calc=2.0041120614851002, EmQ2=2.114215135574341), Row(Q2Calc=3.0189271515906526, EmQ2=3.080789804458618), Row(Q2Calc=53.374075510008595, EmQ2=55.179561614990234), Row(Q2Calc=4.235756816437403, EmQ2=4.338635444641113), Row(Q2Calc=3.5368869700085543, EmQ2=3.7793610095977783), Row(Q2Calc=2.510247143895809, EmQ2=2.567662477493286), Row(Q2Calc=531.8646154362928, EmQ2=559.0379028320312), Row(Q2Calc=4.920299464458185, EmQ2=5.055008888244629), Row(Q2Calc=10.321160155629348, EmQ2=10.694759368896484), Row(Q2Calc=765.8908285670584, EmQ2=848.932861328125)]\n"
     ]
    }
   ],
   "source": [
    "filter_sample = filter_joined.select(\"Q2Calc\",\"EmQ2\").sample(False, 0.4, 72).collect()\n",
    "print filter_sample[0:10]"
   ]
  },
  {
   "cell_type": "code",
   "execution_count": 94,
   "metadata": {},
   "outputs": [
    {
     "data": {
      "image/png": "[encoded data removed]",
      "text/plain": [
       "<matplotlib.figure.Figure at 0x7f33fa3a5490>"
      ]
     },
     "metadata": {},
     "output_type": "display_data"
    }
   ],
   "source": [
    "for row in filter_sample:\n",
    "    x = row[0]\n",
    "    y = row[1]\n",
    "    plt.scatter(x,y)\n",
    "\n",
    "plt.title('Scatterplot CalcQ2 vs EmQ2el')\n",
    "plt.xlabel('Calculated')\n",
    "plt.ylabel('EmQ2el')\n",
    "plt.xlim([0,1000])\n",
    "plt.ylim([0,1000])\n",
    "plt.show()"
   ]
  },
  {
   "cell_type": "code",
   "execution_count": null,
   "metadata": {
    "collapsed": true
   },
   "outputs": [],
   "source": []
  }
 ],
 "metadata": {
  "kernelspec": {
   "display_name": "Python 2",
   "language": "python",
   "name": "python2"
  },
  "language_info": {
   "codemirror_mode": {
    "name": "ipython",
    "version": 2
   },
   "file_extension": ".py",
   "mimetype": "text/x-python",
   "name": "python",
   "nbconvert_exporter": "python",
   "pygments_lexer": "ipython2",
   "version": "2.7.12"
  }
 },
 "nbformat": 4,
 "nbformat_minor": 2
}
